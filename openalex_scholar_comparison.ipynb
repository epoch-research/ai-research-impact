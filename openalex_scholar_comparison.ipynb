{
 "cells": [
  {
   "cell_type": "code",
   "execution_count": 11,
   "metadata": {},
   "outputs": [],
   "source": [
    "import numpy as np\n",
    "from numpy.random import default_rng\n",
    "import pickle\n",
    "import pyalex\n",
    "from pyalex import Authors, Concepts, Institutions, Works\n",
    "from scholarly import scholarly\n",
    "from scholarly import ProxyGenerator\n",
    "import tqdm"
   ]
  },
  {
   "cell_type": "code",
   "execution_count": 2,
   "metadata": {},
   "outputs": [],
   "source": [
    "# The polite pool has much faster and more consistent response times. To get into the polite pool, you set your email:\n",
    "pyalex.config.email = \"ben@epochai.org\""
   ]
  },
  {
   "cell_type": "code",
   "execution_count": 3,
   "metadata": {},
   "outputs": [],
   "source": [
    "data_file_location = 'data/'"
   ]
  },
  {
   "cell_type": "code",
   "execution_count": 4,
   "metadata": {},
   "outputs": [],
   "source": [
    "SEED = 20230105\n",
    "rng = default_rng(seed=SEED)"
   ]
  },
  {
   "cell_type": "code",
   "execution_count": 5,
   "metadata": {},
   "outputs": [],
   "source": [
    "# Set up a ProxyGenerator object to use free proxies\n",
    "# This needs to be done only once per session\n",
    "# pg = ProxyGenerator()\n",
    "# pg.FreeProxies()\n",
    "# scholarly.use_proxy(pg)"
   ]
  },
  {
   "cell_type": "code",
   "execution_count": 6,
   "metadata": {},
   "outputs": [
    {
     "data": {
      "text/plain": [
       "134178"
      ]
     },
     "execution_count": 6,
     "metadata": {},
     "output_type": "execute_result"
    }
   ],
   "source": [
    "with open(data_file_location + \"selected_institution_works_openalex_2023-05-29_15-29-57\", \"rb\") as f:\n",
    "    works_obj = pickle.load(f)\n",
    "    works = works_obj[\"works\"]\n",
    "len(works)"
   ]
  },
  {
   "cell_type": "code",
   "execution_count": 9,
   "metadata": {},
   "outputs": [
    {
     "data": {
      "text/plain": [
       "{'id': 'https://openalex.org/W2618530766',\n",
       " 'doi': 'https://doi.org/10.1145/3065386',\n",
       " 'title': 'ImageNet classification with deep convolutional neural networks',\n",
       " 'display_name': 'ImageNet classification with deep convolutional neural networks',\n",
       " 'publication_year': 2017,\n",
       " 'publication_date': '2017-05-24',\n",
       " 'ids': {'openalex': 'https://openalex.org/W2618530766',\n",
       "  'doi': 'https://doi.org/10.1145/3065386',\n",
       "  'mag': '2618530766'},\n",
       " 'language': 'en',\n",
       " 'primary_location': {'is_oa': True,\n",
       "  'landing_page_url': 'https://doi.org/10.1145/3065386',\n",
       "  'pdf_url': 'http://dl.acm.org/ft_gateway.cfm?id=3065386&type=pdf',\n",
       "  'source': {'id': 'https://openalex.org/S103482838',\n",
       "   'display_name': 'Communications of The ACM',\n",
       "   'issn_l': '0001-0782',\n",
       "   'issn': ['1557-7317', '0001-0782'],\n",
       "   'host_organization': 'https://openalex.org/P4310319798',\n",
       "   'host_organization_name': 'Association for Computing Machinery',\n",
       "   'host_organization_lineage': ['https://openalex.org/P4310319798'],\n",
       "   'host_organization_lineage_names': ['Association for Computing Machinery'],\n",
       "   'type': 'journal'},\n",
       "  'license': None,\n",
       "  'version': 'publishedVersion'},\n",
       " 'type': 'journal-article',\n",
       " 'open_access': {'is_oa': True,\n",
       "  'oa_status': 'bronze',\n",
       "  'oa_url': 'http://dl.acm.org/ft_gateway.cfm?id=3065386&type=pdf',\n",
       "  'any_repository_has_fulltext': True},\n",
       " 'authorships': [{'author_position': 'first',\n",
       "   'author': {'id': 'https://openalex.org/A1171453863',\n",
       "    'display_name': 'Alex Krizhevsky',\n",
       "    'orcid': None},\n",
       "   'institutions': [{'id': 'https://openalex.org/I1291425158',\n",
       "     'display_name': 'Google (United States)',\n",
       "     'ror': 'https://ror.org/00njsd438',\n",
       "     'country_code': 'US',\n",
       "     'type': 'company'}],\n",
       "   'is_corresponding': False,\n",
       "   'raw_affiliation_string': 'GOOGLE INC.',\n",
       "   'raw_affiliation_strings': ['GOOGLE INC.']},\n",
       "  {'author_position': 'middle',\n",
       "   'author': {'id': 'https://openalex.org/A215131072',\n",
       "    'display_name': 'Ilya Sutskever',\n",
       "    'orcid': None},\n",
       "   'institutions': [{'id': 'https://openalex.org/I1291425158',\n",
       "     'display_name': 'Google (United States)',\n",
       "     'ror': 'https://ror.org/00njsd438',\n",
       "     'country_code': 'US',\n",
       "     'type': 'company'}],\n",
       "   'is_corresponding': False,\n",
       "   'raw_affiliation_string': 'GOOGLE INC.',\n",
       "   'raw_affiliation_strings': ['GOOGLE INC.']},\n",
       "  {'author_position': 'last',\n",
       "   'author': {'id': 'https://openalex.org/A4357893511',\n",
       "    'display_name': 'Geoffrey E. Hinton',\n",
       "    'orcid': None},\n",
       "   'institutions': [{'id': 'https://openalex.org/I4210161460',\n",
       "     'display_name': 'OpenAI (United States)',\n",
       "     'ror': 'https://ror.org/05wx9n238',\n",
       "     'country_code': 'US',\n",
       "     'type': None}],\n",
       "   'is_corresponding': False,\n",
       "   'raw_affiliation_string': '[OpenAI.]',\n",
       "   'raw_affiliation_strings': ['[OpenAI.]']}],\n",
       " 'corresponding_author_ids': [],\n",
       " 'corresponding_institution_ids': [],\n",
       " 'apc_payment': None,\n",
       " 'cited_by_count': 15059,\n",
       " 'biblio': {'volume': '60',\n",
       "  'issue': '6',\n",
       "  'first_page': '84',\n",
       "  'last_page': '90'},\n",
       " 'is_retracted': False,\n",
       " 'is_paratext': False,\n",
       " 'concepts': [{'id': 'https://openalex.org/C188441871',\n",
       "   'wikidata': 'https://www.wikidata.org/wiki/Q7554146',\n",
       "   'display_name': 'Softmax function',\n",
       "   'level': 3,\n",
       "   'score': 0.8576871},\n",
       "  {'id': 'https://openalex.org/C41008148',\n",
       "   'wikidata': 'https://www.wikidata.org/wiki/Q21198',\n",
       "   'display_name': 'Computer science',\n",
       "   'level': 0,\n",
       "   'score': 0.82062376},\n",
       "  {'id': 'https://openalex.org/C22019652',\n",
       "   'wikidata': 'https://www.wikidata.org/wiki/Q331309',\n",
       "   'display_name': 'Overfitting',\n",
       "   'level': 3,\n",
       "   'score': 0.7917407},\n",
       "  {'id': 'https://openalex.org/C81363708',\n",
       "   'wikidata': 'https://www.wikidata.org/wiki/Q17084460',\n",
       "   'display_name': 'Convolutional neural network',\n",
       "   'level': 2,\n",
       "   'score': 0.75154054},\n",
       "  {'id': 'https://openalex.org/C70437156',\n",
       "   'wikidata': 'https://www.wikidata.org/wiki/Q7228652',\n",
       "   'display_name': 'Pooling',\n",
       "   'level': 2,\n",
       "   'score': 0.64878106},\n",
       "  {'id': 'https://openalex.org/C2776145597',\n",
       "   'wikidata': 'https://www.wikidata.org/wiki/Q25339462',\n",
       "   'display_name': 'Dropout (neural networks)',\n",
       "   'level': 2,\n",
       "   'score': 0.64242786},\n",
       "  {'id': 'https://openalex.org/C154945302',\n",
       "   'wikidata': 'https://www.wikidata.org/wiki/Q11660',\n",
       "   'display_name': 'Artificial intelligence',\n",
       "   'level': 1,\n",
       "   'score': 0.6326233},\n",
       "  {'id': 'https://openalex.org/C153180895',\n",
       "   'wikidata': 'https://www.wikidata.org/wiki/Q7148389',\n",
       "   'display_name': 'Pattern recognition (psychology)',\n",
       "   'level': 2,\n",
       "   'score': 0.58416},\n",
       "  {'id': 'https://openalex.org/C2776135515',\n",
       "   'wikidata': 'https://www.wikidata.org/wiki/Q17143721',\n",
       "   'display_name': 'Regularization (linguistics)',\n",
       "   'level': 2,\n",
       "   'score': 0.55394953},\n",
       "  {'id': 'https://openalex.org/C45347329',\n",
       "   'wikidata': 'https://www.wikidata.org/wiki/Q5166604',\n",
       "   'display_name': 'Convolution (computer science)',\n",
       "   'level': 3,\n",
       "   'score': 0.5528856},\n",
       "  {'id': 'https://openalex.org/C2984842247',\n",
       "   'wikidata': 'https://www.wikidata.org/wiki/Q197536',\n",
       "   'display_name': 'Deep neural networks',\n",
       "   'level': 3,\n",
       "   'score': 0.43396717},\n",
       "  {'id': 'https://openalex.org/C40969351',\n",
       "   'wikidata': 'https://www.wikidata.org/wiki/Q3516228',\n",
       "   'display_name': 'Word error rate',\n",
       "   'level': 2,\n",
       "   'score': 0.43367156},\n",
       "  {'id': 'https://openalex.org/C108583219',\n",
       "   'wikidata': 'https://www.wikidata.org/wiki/Q197536',\n",
       "   'display_name': 'Deep learning',\n",
       "   'level': 2,\n",
       "   'score': 0.41003633},\n",
       "  {'id': 'https://openalex.org/C50644808',\n",
       "   'wikidata': 'https://www.wikidata.org/wiki/Q192776',\n",
       "   'display_name': 'Artificial neural network',\n",
       "   'level': 2,\n",
       "   'score': 0.39254606},\n",
       "  {'id': 'https://openalex.org/C119857082',\n",
       "   'wikidata': 'https://www.wikidata.org/wiki/Q2539',\n",
       "   'display_name': 'Machine learning',\n",
       "   'level': 1,\n",
       "   'score': 0.3467344}],\n",
       " 'mesh': [],\n",
       " 'locations_count': 2,\n",
       " 'locations': [{'is_oa': True,\n",
       "   'landing_page_url': 'https://doi.org/10.1145/3065386',\n",
       "   'pdf_url': 'http://dl.acm.org/ft_gateway.cfm?id=3065386&type=pdf',\n",
       "   'source': {'id': 'https://openalex.org/S103482838',\n",
       "    'display_name': 'Communications of The ACM',\n",
       "    'issn_l': '0001-0782',\n",
       "    'issn': ['1557-7317', '0001-0782'],\n",
       "    'host_organization': 'https://openalex.org/P4310319798',\n",
       "    'host_organization_name': 'Association for Computing Machinery',\n",
       "    'host_organization_lineage': ['https://openalex.org/P4310319798'],\n",
       "    'host_organization_lineage_names': ['Association for Computing Machinery'],\n",
       "    'type': 'journal'},\n",
       "   'license': None,\n",
       "   'version': 'publishedVersion'},\n",
       "  {'is_oa': True,\n",
       "   'landing_page_url': 'http://citeseerx.ist.psu.edu/viewdoc/summary?doi=10.1.1.692.3657',\n",
       "   'pdf_url': 'http://vision.stanford.edu/teaching/cs131_fall1415/lectures/Krizhevsky2013.pdf',\n",
       "   'source': {'id': 'https://openalex.org/S4306400349',\n",
       "    'display_name': 'CiteSeer X (The Pennsylvania State University)',\n",
       "    'issn_l': None,\n",
       "    'issn': None,\n",
       "    'host_organization': 'https://openalex.org/I130769515',\n",
       "    'host_organization_name': 'Pennsylvania State University',\n",
       "    'host_organization_lineage': ['https://openalex.org/I130769515'],\n",
       "    'host_organization_lineage_names': ['Pennsylvania State University'],\n",
       "    'type': 'repository'},\n",
       "   'license': None,\n",
       "   'version': 'submittedVersion'}],\n",
       " 'best_oa_location': {'is_oa': True,\n",
       "  'landing_page_url': 'https://doi.org/10.1145/3065386',\n",
       "  'pdf_url': 'http://dl.acm.org/ft_gateway.cfm?id=3065386&type=pdf',\n",
       "  'source': {'id': 'https://openalex.org/S103482838',\n",
       "   'display_name': 'Communications of The ACM',\n",
       "   'issn_l': '0001-0782',\n",
       "   'issn': ['1557-7317', '0001-0782'],\n",
       "   'host_organization': 'https://openalex.org/P4310319798',\n",
       "   'host_organization_name': 'Association for Computing Machinery',\n",
       "   'host_organization_lineage': ['https://openalex.org/P4310319798'],\n",
       "   'host_organization_lineage_names': ['Association for Computing Machinery'],\n",
       "   'type': 'journal'},\n",
       "  'license': None,\n",
       "  'version': 'publishedVersion'},\n",
       " 'grants': [],\n",
       " 'referenced_works': ['https://openalex.org/W2015861736',\n",
       "  'https://openalex.org/W2018435387',\n",
       "  'https://openalex.org/W2026942141',\n",
       "  'https://openalex.org/W2053229256',\n",
       "  'https://openalex.org/W2061212083',\n",
       "  'https://openalex.org/W2097117768',\n",
       "  'https://openalex.org/W2101926813',\n",
       "  'https://openalex.org/W2110764733',\n",
       "  'https://openalex.org/W2130325614',\n",
       "  'https://openalex.org/W2144161366',\n",
       "  'https://openalex.org/W2166049352',\n",
       "  'https://openalex.org/W2169805405',\n",
       "  'https://openalex.org/W2546302380',\n",
       "  'https://openalex.org/W2911964244'],\n",
       " 'related_works': ['https://openalex.org/W2163605009',\n",
       "  'https://openalex.org/W2618530766',\n",
       "  'https://openalex.org/W2758063741',\n",
       "  'https://openalex.org/W2913997398',\n",
       "  'https://openalex.org/W3045276399',\n",
       "  'https://openalex.org/W3093238181',\n",
       "  'https://openalex.org/W3128220493',\n",
       "  'https://openalex.org/W3206266344',\n",
       "  'https://openalex.org/W4287704896',\n",
       "  'https://openalex.org/W4289419607'],\n",
       " 'ngrams_url': 'https://api.openalex.org/works/W2618530766/ngrams',\n",
       " 'abstract_inverted_index': {'We': [0, 124],\n",
       "  'trained': [1],\n",
       "  'a': [2, 79, 92, 111, 127, 138],\n",
       "  'large,': [3],\n",
       "  'deep': [4],\n",
       "  'convolutional': [5, 63],\n",
       "  'neural': [6, 50],\n",
       "  'network': [7],\n",
       "  'to': [8, 120, 147],\n",
       "  'classify': [9],\n",
       "  'the': [10, 16, 21, 26, 46, 98, 105, 133, 151],\n",
       "  '1.2': [11],\n",
       "  'million': [12, 55],\n",
       "  'high-resolution': [13],\n",
       "  'images': [14],\n",
       "  'in': [15, 104, 132],\n",
       "  'ImageNet': [17],\n",
       "  'LSVRC-2010': [18],\n",
       "  'contest': [19],\n",
       "  'into': [20],\n",
       "  '1000': [22],\n",
       "  'different': [23],\n",
       "  'classes.': [24],\n",
       "  'On': [25],\n",
       "  'test': [27, 141],\n",
       "  'data,': [28],\n",
       "  'we': [29, 87, 109],\n",
       "  'achieved': [30, 137, 149],\n",
       "  'top-1': [31],\n",
       "  'and': [32, 38, 57, 73, 91, 136],\n",
       "  'top-5': [33, 140],\n",
       "  'error': [34, 142],\n",
       "  'rates': [35],\n",
       "  'of': [36, 61, 66, 97, 129, 144],\n",
       "  '37.5%': [37],\n",
       "  '17.0%,': [39],\n",
       "  'respectively,': [40],\n",
       "  'which': [41, 52, 67],\n",
       "  'is': [42],\n",
       "  'considerably': [43],\n",
       "  'better': [44],\n",
       "  'than': [45],\n",
       "  'previous': [47],\n",
       "  'state-of-the-art.': [48],\n",
       "  'The': [49],\n",
       "  'network,': [51],\n",
       "  'has': [53],\n",
       "  '60': [54],\n",
       "  'parameters': [56],\n",
       "  '650,000': [58],\n",
       "  'neurons,': [59],\n",
       "  'consists': [60],\n",
       "  'five': [62],\n",
       "  'layers,': [64, 72],\n",
       "  'some': [65],\n",
       "  'are': [68],\n",
       "  'followed': [69],\n",
       "  'by': [70, 150],\n",
       "  'max-pooling': [71],\n",
       "  'three': [74],\n",
       "  'fully': [75, 106],\n",
       "  'connected': [76, 107],\n",
       "  'layers': [77, 108],\n",
       "  'with': [78],\n",
       "  'final': [80],\n",
       "  '1000-way': [81],\n",
       "  'softmax.': [82],\n",
       "  'To': [83, 101],\n",
       "  'make': [84],\n",
       "  'training': [85],\n",
       "  'faster,': [86],\n",
       "  'used': [88],\n",
       "  'non-saturating': [89],\n",
       "  'neurons': [90],\n",
       "  'very': [93, 122],\n",
       "  'efficient': [94],\n",
       "  'GPU': [95],\n",
       "  'implementation': [96],\n",
       "  'convolution': [99],\n",
       "  'operation.': [100],\n",
       "  'reduce': [102],\n",
       "  'overfitting': [103],\n",
       "  'employed': [110],\n",
       "  'recently': [112],\n",
       "  'developed': [113],\n",
       "  'regularization': [114],\n",
       "  'method': [115],\n",
       "  'called': [116],\n",
       "  '\"dropout\"': [117],\n",
       "  'that': [118],\n",
       "  'proved': [119],\n",
       "  'be': [121],\n",
       "  'effective.': [123],\n",
       "  'also': [125],\n",
       "  'entered': [126],\n",
       "  'variant': [128],\n",
       "  'this': [130],\n",
       "  'model': [131],\n",
       "  'ILSVRC-2012': [134],\n",
       "  'competition': [135],\n",
       "  'winning': [139],\n",
       "  'rate': [143],\n",
       "  '15.3%,': [145],\n",
       "  'compared': [146],\n",
       "  '26.2%': [148],\n",
       "  'second-best': [152],\n",
       "  'entry.': [153]},\n",
       " 'cited_by_api_url': 'https://api.openalex.org/works?filter=cites:W2618530766',\n",
       " 'counts_by_year': [{'year': 2023, 'cited_by_count': 1516},\n",
       "  {'year': 2022, 'cited_by_count': 4146},\n",
       "  {'year': 2021, 'cited_by_count': 4111},\n",
       "  {'year': 2020, 'cited_by_count': 2345},\n",
       "  {'year': 2019, 'cited_by_count': 1418},\n",
       "  {'year': 2018, 'cited_by_count': 612},\n",
       "  {'year': 2017, 'cited_by_count': 328},\n",
       "  {'year': 2016, 'cited_by_count': 150},\n",
       "  {'year': 2015, 'cited_by_count': 42},\n",
       "  {'year': 2014, 'cited_by_count': 29},\n",
       "  {'year': 2013, 'cited_by_count': 22}],\n",
       " 'updated_date': '2023-05-24T18:36:01.508420',\n",
       " 'created_date': '2017-06-05'}"
      ]
     },
     "execution_count": 9,
     "metadata": {},
     "output_type": "execute_result"
    }
   ],
   "source": [
    "works[9]"
   ]
  },
  {
   "cell_type": "code",
   "execution_count": 19,
   "metadata": {},
   "outputs": [],
   "source": [
    "works_sample = rng.choice(works, size=10000, replace=False)\n",
    "# works_sample = works[:20]"
   ]
  },
  {
   "cell_type": "code",
   "execution_count": 25,
   "metadata": {},
   "outputs": [],
   "source": [
    "from researcher_impact.pyalex_utils import merge_sample\n",
    "\n",
    "works_sample = merge_sample(\n",
    "    Works().search_filter(abstract=\"imagenet\"),\n",
    "    sample_size=1000,\n",
    "    seed=SEED,\n",
    ")"
   ]
  },
  {
   "cell_type": "code",
   "execution_count": 27,
   "metadata": {},
   "outputs": [
    {
     "name": "stderr",
     "output_type": "stream",
     "text": [
      " 32%|███▏      | 322/1000 [29:43<1:02:34,  5.54s/it]\n"
     ]
    },
    {
     "ename": "HTTPError",
     "evalue": "404 Client Error: NOT FOUND for url: https://api.openalex.org/works/W2426267443",
     "output_type": "error",
     "traceback": [
      "\u001b[0;31m---------------------------------------------------------------------------\u001b[0m",
      "\u001b[0;31mHTTPError\u001b[0m                                 Traceback (most recent call last)",
      "Cell \u001b[0;32mIn[27], line 12\u001b[0m\n\u001b[1;32m     10\u001b[0m imagenet_papers \u001b[39m+\u001b[39m\u001b[39m=\u001b[39m \u001b[39m1\u001b[39m\n\u001b[1;32m     11\u001b[0m \u001b[39mfor\u001b[39;00m referenced_work_id \u001b[39min\u001b[39;00m work[\u001b[39m'\u001b[39m\u001b[39mreferenced_works\u001b[39m\u001b[39m'\u001b[39m]:\n\u001b[0;32m---> 12\u001b[0m     referenced_work \u001b[39m=\u001b[39m Works()[referenced_work_id]\n\u001b[1;32m     13\u001b[0m     referenced_inv_idx \u001b[39m=\u001b[39m referenced_work[\u001b[39m'\u001b[39m\u001b[39mabstract_inverted_index\u001b[39m\u001b[39m'\u001b[39m]\n\u001b[1;32m     14\u001b[0m     \u001b[39mif\u001b[39;00m referenced_inv_idx \u001b[39mis\u001b[39;00m \u001b[39mNone\u001b[39;00m:\n",
      "File \u001b[0;32m~/miniconda3/envs/epoch/lib/python3.11/site-packages/pyalex/api.py:225\u001b[0m, in \u001b[0;36mBaseOpenAlex.__getitem__\u001b[0;34m(self, record_id)\u001b[0m\n\u001b[1;32m    219\u001b[0m params \u001b[39m=\u001b[39m {\u001b[39m\"\u001b[39m\u001b[39mapi_key\u001b[39m\u001b[39m\"\u001b[39m: config\u001b[39m.\u001b[39mapi_key} \u001b[39mif\u001b[39;00m config\u001b[39m.\u001b[39mapi_key \u001b[39melse\u001b[39;00m {}\n\u001b[1;32m    220\u001b[0m res \u001b[39m=\u001b[39m requests\u001b[39m.\u001b[39mget(\n\u001b[1;32m    221\u001b[0m     url,\n\u001b[1;32m    222\u001b[0m     headers\u001b[39m=\u001b[39m{\u001b[39m\"\u001b[39m\u001b[39mUser-Agent\u001b[39m\u001b[39m\"\u001b[39m: \u001b[39m\"\u001b[39m\u001b[39mpyalex/\u001b[39m\u001b[39m\"\u001b[39m \u001b[39m+\u001b[39m __version__, \u001b[39m\"\u001b[39m\u001b[39memail\u001b[39m\u001b[39m\"\u001b[39m: config\u001b[39m.\u001b[39memail},\n\u001b[1;32m    223\u001b[0m     params\u001b[39m=\u001b[39mparams,\n\u001b[1;32m    224\u001b[0m )\n\u001b[0;32m--> 225\u001b[0m res\u001b[39m.\u001b[39;49mraise_for_status()\n\u001b[1;32m    226\u001b[0m res_json \u001b[39m=\u001b[39m res\u001b[39m.\u001b[39mjson()\n\u001b[1;32m    228\u001b[0m \u001b[39mreturn\u001b[39;00m \u001b[39mself\u001b[39m\u001b[39m.\u001b[39mobj(res_json)\n",
      "File \u001b[0;32m~/miniconda3/envs/epoch/lib/python3.11/site-packages/requests/models.py:1021\u001b[0m, in \u001b[0;36mResponse.raise_for_status\u001b[0;34m(self)\u001b[0m\n\u001b[1;32m   1016\u001b[0m     http_error_msg \u001b[39m=\u001b[39m (\n\u001b[1;32m   1017\u001b[0m         \u001b[39mf\u001b[39m\u001b[39m\"\u001b[39m\u001b[39m{\u001b[39;00m\u001b[39mself\u001b[39m\u001b[39m.\u001b[39mstatus_code\u001b[39m}\u001b[39;00m\u001b[39m Server Error: \u001b[39m\u001b[39m{\u001b[39;00mreason\u001b[39m}\u001b[39;00m\u001b[39m for url: \u001b[39m\u001b[39m{\u001b[39;00m\u001b[39mself\u001b[39m\u001b[39m.\u001b[39murl\u001b[39m}\u001b[39;00m\u001b[39m\"\u001b[39m\n\u001b[1;32m   1018\u001b[0m     )\n\u001b[1;32m   1020\u001b[0m \u001b[39mif\u001b[39;00m http_error_msg:\n\u001b[0;32m-> 1021\u001b[0m     \u001b[39mraise\u001b[39;00m HTTPError(http_error_msg, response\u001b[39m=\u001b[39m\u001b[39mself\u001b[39m)\n",
      "\u001b[0;31mHTTPError\u001b[0m: 404 Client Error: NOT FOUND for url: https://api.openalex.org/works/W2426267443"
     ]
    }
   ],
   "source": [
    "imagenet_papers = 0\n",
    "imagenet_count = 0\n",
    "non_imagenet_count = 0\n",
    "null_count = 0\n",
    "for work in tqdm.tqdm(works_sample):\n",
    "    inv_idx = work['abstract_inverted_index']\n",
    "    if inv_idx is None:\n",
    "        continue\n",
    "    if 'ImageNet' in inv_idx.keys():\n",
    "        imagenet_papers += 1\n",
    "        for referenced_work_id in work['referenced_works']:\n",
    "            referenced_work = Works()[referenced_work_id]\n",
    "            referenced_inv_idx = referenced_work['abstract_inverted_index']\n",
    "            if referenced_inv_idx is None:\n",
    "                null_count += 1\n",
    "            else:\n",
    "                if 'ImageNet' in referenced_work['abstract_inverted_index'].keys():\n",
    "                    imagenet_count += 1\n",
    "                else:\n",
    "                    non_imagenet_count += 1"
   ]
  },
  {
   "cell_type": "code",
   "execution_count": 28,
   "metadata": {},
   "outputs": [
    {
     "name": "stdout",
     "output_type": "stream",
     "text": [
      "200 650 2546 202\n"
     ]
    }
   ],
   "source": [
    "print(imagenet_papers, imagenet_count, non_imagenet_count, null_count)"
   ]
  },
  {
   "cell_type": "code",
   "execution_count": 22,
   "metadata": {},
   "outputs": [
    {
     "data": {
      "text/plain": [
       "0.2103225806451613"
      ]
     },
     "execution_count": 22,
     "metadata": {},
     "output_type": "execute_result"
    }
   ],
   "source": [
    "imagenet_count / (imagenet_count + non_imagenet_count)"
   ]
  },
  {
   "cell_type": "code",
   "execution_count": 25,
   "metadata": {},
   "outputs": [
    {
     "name": "stdout",
     "output_type": "stream",
     "text": [
      "Deep Residual Learning for Image Recognition\n",
      "Deep learning\n",
      "ImageNet Large Scale Visual Recognition Challenge\n",
      "Going deeper with convolutions\n",
      "Densely Connected Convolutional Networks\n",
      "Human-level control through deep reinforcement learning\n",
      "You Only Look Once: Unified, Real-Time Object Detection\n",
      "Faster R-CNN: Towards Real-Time Object Detection with Region Proposal Networks\n",
      "Attention is All you Need\n",
      "ImageNet classification with deep convolutional neural networks\n",
      "Rethinking the Inception Architecture for Computer Vision\n"
     ]
    },
    {
     "ename": "MaxTriesExceededException",
     "evalue": "Cannot Fetch from Google Scholar.",
     "output_type": "error",
     "traceback": [
      "\u001b[0;31m---------------------------------------------------------------------------\u001b[0m",
      "\u001b[0;31mMaxTriesExceededException\u001b[0m                 Traceback (most recent call last)",
      "Cell \u001b[0;32mIn[25], line 7\u001b[0m\n\u001b[1;32m      5\u001b[0m work_display_name \u001b[39m=\u001b[39m work[\u001b[39m'\u001b[39m\u001b[39mdisplay_name\u001b[39m\u001b[39m'\u001b[39m]\n\u001b[1;32m      6\u001b[0m \u001b[39mprint\u001b[39m(work_display_name)\n\u001b[0;32m----> 7\u001b[0m work_query \u001b[39m=\u001b[39m scholarly\u001b[39m.\u001b[39;49msearch_pubs(work_display_name)\n\u001b[1;32m      8\u001b[0m \u001b[39mtry\u001b[39;00m:\n\u001b[1;32m      9\u001b[0m     first_work_result \u001b[39m=\u001b[39m \u001b[39mnext\u001b[39m(work_query)\n",
      "File \u001b[0;32m~/miniconda3/envs/epoch/lib/python3.11/site-packages/scholarly/_scholarly.py:160\u001b[0m, in \u001b[0;36m_Scholarly.search_pubs\u001b[0;34m(self, query, patents, citations, year_low, year_high, sort_by, include_last_year, start_index)\u001b[0m\n\u001b[1;32m     97\u001b[0m \u001b[39m\u001b[39m\u001b[39m\"\"\"Searches by query and returns a generator of Publication objects\u001b[39;00m\n\u001b[1;32m     98\u001b[0m \n\u001b[1;32m     99\u001b[0m \u001b[39m:param query: terms to be searched\u001b[39;00m\n\u001b[0;32m   (...)\u001b[0m\n\u001b[1;32m    155\u001b[0m \n\u001b[1;32m    156\u001b[0m \u001b[39m\"\"\"\u001b[39;00m\n\u001b[1;32m    157\u001b[0m url \u001b[39m=\u001b[39m \u001b[39mself\u001b[39m\u001b[39m.\u001b[39m_construct_url(_PUBSEARCH\u001b[39m.\u001b[39mformat(requests\u001b[39m.\u001b[39mutils\u001b[39m.\u001b[39mquote(query)), patents\u001b[39m=\u001b[39mpatents,\n\u001b[1;32m    158\u001b[0m                           citations\u001b[39m=\u001b[39mcitations, year_low\u001b[39m=\u001b[39myear_low, year_high\u001b[39m=\u001b[39myear_high,\n\u001b[1;32m    159\u001b[0m                           sort_by\u001b[39m=\u001b[39msort_by, include_last_year\u001b[39m=\u001b[39minclude_last_year, start_index\u001b[39m=\u001b[39mstart_index)\n\u001b[0;32m--> 160\u001b[0m \u001b[39mreturn\u001b[39;00m \u001b[39mself\u001b[39;49m\u001b[39m.\u001b[39;49m__nav\u001b[39m.\u001b[39;49msearch_publications(url)\n",
      "File \u001b[0;32m~/miniconda3/envs/epoch/lib/python3.11/site-packages/scholarly/_navigator.py:296\u001b[0m, in \u001b[0;36mNavigator.search_publications\u001b[0;34m(self, url)\u001b[0m\n\u001b[1;32m    288\u001b[0m \u001b[39mdef\u001b[39;00m \u001b[39msearch_publications\u001b[39m(\u001b[39mself\u001b[39m, url: \u001b[39mstr\u001b[39m) \u001b[39m-\u001b[39m\u001b[39m>\u001b[39m _SearchScholarIterator:\n\u001b[1;32m    289\u001b[0m \u001b[39m    \u001b[39m\u001b[39m\"\"\"Returns a Publication Generator given a url\u001b[39;00m\n\u001b[1;32m    290\u001b[0m \n\u001b[1;32m    291\u001b[0m \u001b[39m    :param url: the url where publications can be found.\u001b[39;00m\n\u001b[0;32m   (...)\u001b[0m\n\u001b[1;32m    294\u001b[0m \u001b[39m    :rtype: {_SearchScholarIterator}\u001b[39;00m\n\u001b[1;32m    295\u001b[0m \u001b[39m    \"\"\"\u001b[39;00m\n\u001b[0;32m--> 296\u001b[0m     \u001b[39mreturn\u001b[39;00m _SearchScholarIterator(\u001b[39mself\u001b[39;49m, url)\n",
      "File \u001b[0;32m~/miniconda3/envs/epoch/lib/python3.11/site-packages/scholarly/publication_parser.py:53\u001b[0m, in \u001b[0;36m_SearchScholarIterator.__init__\u001b[0;34m(self, nav, url)\u001b[0m\n\u001b[1;32m     51\u001b[0m \u001b[39mself\u001b[39m\u001b[39m.\u001b[39m_pubtype \u001b[39m=\u001b[39m PublicationSource\u001b[39m.\u001b[39mPUBLICATION_SEARCH_SNIPPET \u001b[39mif\u001b[39;00m \u001b[39m\"\u001b[39m\u001b[39m/scholar?\u001b[39m\u001b[39m\"\u001b[39m \u001b[39min\u001b[39;00m url \u001b[39melse\u001b[39;00m PublicationSource\u001b[39m.\u001b[39mJOURNAL_CITATION_LIST\n\u001b[1;32m     52\u001b[0m \u001b[39mself\u001b[39m\u001b[39m.\u001b[39m_nav \u001b[39m=\u001b[39m nav\n\u001b[0;32m---> 53\u001b[0m \u001b[39mself\u001b[39;49m\u001b[39m.\u001b[39;49m_load_url(url)\n\u001b[1;32m     54\u001b[0m \u001b[39mself\u001b[39m\u001b[39m.\u001b[39mtotal_results \u001b[39m=\u001b[39m \u001b[39mself\u001b[39m\u001b[39m.\u001b[39m_get_total_results()\n\u001b[1;32m     55\u001b[0m \u001b[39mself\u001b[39m\u001b[39m.\u001b[39mpub_parser \u001b[39m=\u001b[39m PublicationParser(\u001b[39mself\u001b[39m\u001b[39m.\u001b[39m_nav)\n",
      "File \u001b[0;32m~/miniconda3/envs/epoch/lib/python3.11/site-packages/scholarly/publication_parser.py:59\u001b[0m, in \u001b[0;36m_SearchScholarIterator._load_url\u001b[0;34m(self, url)\u001b[0m\n\u001b[1;32m     57\u001b[0m \u001b[39mdef\u001b[39;00m \u001b[39m_load_url\u001b[39m(\u001b[39mself\u001b[39m, url: \u001b[39mstr\u001b[39m):\n\u001b[1;32m     58\u001b[0m     \u001b[39m# this is temporary until setup json file\u001b[39;00m\n\u001b[0;32m---> 59\u001b[0m     \u001b[39mself\u001b[39m\u001b[39m.\u001b[39m_soup \u001b[39m=\u001b[39m \u001b[39mself\u001b[39;49m\u001b[39m.\u001b[39;49m_nav\u001b[39m.\u001b[39;49m_get_soup(url)\n\u001b[1;32m     60\u001b[0m     \u001b[39mself\u001b[39m\u001b[39m.\u001b[39m_pos \u001b[39m=\u001b[39m \u001b[39m0\u001b[39m\n\u001b[1;32m     61\u001b[0m     \u001b[39mself\u001b[39m\u001b[39m.\u001b[39m_rows \u001b[39m=\u001b[39m \u001b[39mself\u001b[39m\u001b[39m.\u001b[39m_soup\u001b[39m.\u001b[39mfind_all(\u001b[39m'\u001b[39m\u001b[39mdiv\u001b[39m\u001b[39m'\u001b[39m, class_\u001b[39m=\u001b[39m\u001b[39m'\u001b[39m\u001b[39mgs_r gs_or gs_scl\u001b[39m\u001b[39m'\u001b[39m) \u001b[39m+\u001b[39m \u001b[39mself\u001b[39m\u001b[39m.\u001b[39m_soup\u001b[39m.\u001b[39mfind_all(\u001b[39m'\u001b[39m\u001b[39mdiv\u001b[39m\u001b[39m'\u001b[39m, class_\u001b[39m=\u001b[39m\u001b[39m'\u001b[39m\u001b[39mgsc_mpat_ttl\u001b[39m\u001b[39m'\u001b[39m)\n",
      "File \u001b[0;32m~/miniconda3/envs/epoch/lib/python3.11/site-packages/scholarly/_navigator.py:239\u001b[0m, in \u001b[0;36mNavigator._get_soup\u001b[0;34m(self, url)\u001b[0m\n\u001b[1;32m    237\u001b[0m \u001b[39mdef\u001b[39;00m \u001b[39m_get_soup\u001b[39m(\u001b[39mself\u001b[39m, url: \u001b[39mstr\u001b[39m) \u001b[39m-\u001b[39m\u001b[39m>\u001b[39m BeautifulSoup:\n\u001b[1;32m    238\u001b[0m \u001b[39m    \u001b[39m\u001b[39m\"\"\"Return the BeautifulSoup for a page on scholar.google.com\"\"\"\u001b[39;00m\n\u001b[0;32m--> 239\u001b[0m     html \u001b[39m=\u001b[39m \u001b[39mself\u001b[39;49m\u001b[39m.\u001b[39;49m_get_page(\u001b[39m'\u001b[39;49m\u001b[39mhttps://scholar.google.com\u001b[39;49m\u001b[39m{0}\u001b[39;49;00m\u001b[39m'\u001b[39;49m\u001b[39m.\u001b[39;49mformat(url))\n\u001b[1;32m    240\u001b[0m     html \u001b[39m=\u001b[39m html\u001b[39m.\u001b[39mreplace(\u001b[39mu\u001b[39m\u001b[39m'\u001b[39m\u001b[39m\\xa0\u001b[39;00m\u001b[39m'\u001b[39m, \u001b[39mu\u001b[39m\u001b[39m'\u001b[39m\u001b[39m \u001b[39m\u001b[39m'\u001b[39m)\n\u001b[1;32m    241\u001b[0m     res \u001b[39m=\u001b[39m BeautifulSoup(html, \u001b[39m'\u001b[39m\u001b[39mhtml.parser\u001b[39m\u001b[39m'\u001b[39m)\n",
      "File \u001b[0;32m~/miniconda3/envs/epoch/lib/python3.11/site-packages/scholarly/_navigator.py:190\u001b[0m, in \u001b[0;36mNavigator._get_page\u001b[0;34m(self, pagerequest, premium)\u001b[0m\n\u001b[1;32m    188\u001b[0m     \u001b[39mreturn\u001b[39;00m \u001b[39mself\u001b[39m\u001b[39m.\u001b[39m_get_page(pagerequest, \u001b[39mTrue\u001b[39;00m)\n\u001b[1;32m    189\u001b[0m \u001b[39melse\u001b[39;00m:\n\u001b[0;32m--> 190\u001b[0m     \u001b[39mraise\u001b[39;00m MaxTriesExceededException(\u001b[39m\"\u001b[39m\u001b[39mCannot Fetch from Google Scholar.\u001b[39m\u001b[39m\"\u001b[39m)\n",
      "\u001b[0;31mMaxTriesExceededException\u001b[0m: Cannot Fetch from Google Scholar."
     ]
    }
   ],
   "source": [
    "max_works = len(works_sample)\n",
    "oa_cited_by_counts = []\n",
    "scholar_cited_by_counts = []\n",
    "for work in works_sample:\n",
    "    work_display_name = work['display_name']\n",
    "    print(work_display_name)\n",
    "    work_query = scholarly.search_pubs(work_display_name)\n",
    "    try:\n",
    "        first_work_result = next(work_query)\n",
    "    except StopIteration:\n",
    "        print(\"Work not found in Google Scholar - skipping\")\n",
    "        continue\n",
    "    scholar_citations = first_work_result['num_citations']\n",
    "    scholar_cited_by_counts.append(scholar_citations)\n",
    "    oa_cited_by_counts.append(work['cited_by_count'])\n",
    "    if len(oa_cited_by_counts) >= max_works:\n",
    "        break"
   ]
  },
  {
   "cell_type": "code",
   "execution_count": 26,
   "metadata": {},
   "outputs": [],
   "source": [
    "scholar_cited_by_counts = np.array(scholar_cited_by_counts)\n",
    "oa_cited_by_counts = np.array(oa_cited_by_counts)"
   ]
  },
  {
   "cell_type": "code",
   "execution_count": 27,
   "metadata": {},
   "outputs": [
    {
     "data": {
      "text/plain": [
       "array([166591,  64970,  37745,  50480,  35050,  24374,  35425,  59381,\n",
       "        76820, 133192])"
      ]
     },
     "execution_count": 27,
     "metadata": {},
     "output_type": "execute_result"
    }
   ],
   "source": [
    "scholar_cited_by_counts"
   ]
  },
  {
   "cell_type": "code",
   "execution_count": 28,
   "metadata": {},
   "outputs": [
    {
     "data": {
      "text/plain": [
       "array([98132, 46365, 26234, 26126, 18987, 17161, 16115, 16074, 15711,\n",
       "       15059])"
      ]
     },
     "execution_count": 28,
     "metadata": {},
     "output_type": "execute_result"
    }
   ],
   "source": [
    "oa_cited_by_counts"
   ]
  },
  {
   "cell_type": "code",
   "execution_count": 35,
   "metadata": {},
   "outputs": [
    {
     "data": {
      "text/plain": [
       "'ImageNet classification with deep convolutional neural networks'"
      ]
     },
     "execution_count": 35,
     "metadata": {},
     "output_type": "execute_result"
    }
   ],
   "source": [
    "works[9]['display_name']"
   ]
  },
  {
   "cell_type": "code",
   "execution_count": 29,
   "metadata": {},
   "outputs": [
    {
     "data": {
      "text/plain": [
       "38806.4"
      ]
     },
     "execution_count": 29,
     "metadata": {},
     "output_type": "execute_result"
    }
   ],
   "source": [
    "np.mean(scholar_cited_by_counts - oa_cited_by_counts)"
   ]
  },
  {
   "cell_type": "code",
   "execution_count": 30,
   "metadata": {},
   "outputs": [
    {
     "data": {
      "text/plain": [
       "38806.4"
      ]
     },
     "execution_count": 30,
     "metadata": {},
     "output_type": "execute_result"
    }
   ],
   "source": [
    "np.mean(np.abs(scholar_cited_by_counts - oa_cited_by_counts))"
   ]
  },
  {
   "cell_type": "code",
   "execution_count": 31,
   "metadata": {},
   "outputs": [
    {
     "data": {
      "text/plain": [
       "50996.60420067203"
      ]
     },
     "execution_count": 31,
     "metadata": {},
     "output_type": "execute_result"
    }
   ],
   "source": [
    "np.sqrt(np.mean((scholar_cited_by_counts - oa_cited_by_counts)**2))"
   ]
  },
  {
   "cell_type": "code",
   "execution_count": 32,
   "metadata": {},
   "outputs": [
    {
     "data": {
      "text/plain": [
       "2.9362898667387656"
      ]
     },
     "execution_count": 32,
     "metadata": {},
     "output_type": "execute_result"
    }
   ],
   "source": [
    "np.mean(scholar_cited_by_counts[oa_cited_by_counts > 0] / oa_cited_by_counts[oa_cited_by_counts > 0])"
   ]
  },
  {
   "cell_type": "code",
   "execution_count": 33,
   "metadata": {},
   "outputs": [
    {
     "data": {
      "text/plain": [
       "2.2465921884986715"
      ]
     },
     "execution_count": 33,
     "metadata": {},
     "output_type": "execute_result"
    }
   ],
   "source": [
    "np.std(scholar_cited_by_counts[oa_cited_by_counts > 0] / oa_cited_by_counts[oa_cited_by_counts > 0])"
   ]
  },
  {
   "cell_type": "code",
   "execution_count": null,
   "metadata": {},
   "outputs": [],
   "source": []
  }
 ],
 "metadata": {
  "kernelspec": {
   "display_name": "Python 3",
   "language": "python",
   "name": "python3"
  },
  "language_info": {
   "codemirror_mode": {
    "name": "ipython",
    "version": 3
   },
   "file_extension": ".py",
   "mimetype": "text/x-python",
   "name": "python",
   "nbconvert_exporter": "python",
   "pygments_lexer": "ipython3",
   "version": "3.11.3"
  },
  "orig_nbformat": 4
 },
 "nbformat": 4,
 "nbformat_minor": 2
}
