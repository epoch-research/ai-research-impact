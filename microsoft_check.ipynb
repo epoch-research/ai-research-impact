{
 "cells": [
  {
   "cell_type": "code",
   "execution_count": 1,
   "metadata": {},
   "outputs": [],
   "source": [
    "%load_ext autoreload\n",
    "%autoreload 2"
   ]
  },
  {
   "cell_type": "code",
   "execution_count": 21,
   "metadata": {},
   "outputs": [],
   "source": [
    "import datetime\n",
    "from collections import defaultdict\n",
    "import numpy as np\n",
    "from numpy.random import default_rng\n",
    "import os\n",
    "import pickle\n",
    "import pyalex\n",
    "from pyalex import Works\n",
    "\n",
    "from researcher_impact.pyalex_utils import merge_pages"
   ]
  },
  {
   "cell_type": "code",
   "execution_count": 17,
   "metadata": {},
   "outputs": [],
   "source": [
    "# Create a random number generator, with a fixed random seed for reproducibility\n",
    "SEED = 20230105\n",
    "rng = default_rng(seed=SEED)"
   ]
  },
  {
   "cell_type": "code",
   "execution_count": 22,
   "metadata": {},
   "outputs": [],
   "source": [
    "data_file_location = 'data/'\n",
    "os.makedirs(data_file_location, exist_ok=True)"
   ]
  },
  {
   "cell_type": "code",
   "execution_count": 3,
   "metadata": {},
   "outputs": [],
   "source": [
    "selected_institution_ids = [\n",
    "    \"https://openalex.org/I1290206253\",  # Microsoft (United States)\n",
    "    \"https://openalex.org/I4210164937\",  # Microsoft Research (United Kingdom)\n",
    "    \"https://openalex.org/I4210113369\",  # Microsoft Research Asia (China)\n",
    "    \"https://openalex.org/I4210124949\",  # Microsoft Research (India)\n",
    "    \"https://openalex.org/I4210105678\",  # Microsoft (Finland)\n",
    "    \"https://openalex.org/I4210087053\",  # Microsoft (Germany)\n",
    "    \"https://openalex.org/I4210125051\",  # Microsoft (Israel)\n",
    "    \"https://openalex.org/I4210162141\",  # Microsoft (India)\n",
    "    \"https://openalex.org/I4210086099\",  # Microsoft (Brazil)\n",
    "    \"https://openalex.org/I4210153468\",  # Microsoft (Canada)\n",
    "    \"https://openalex.org/I4210161634\",  # Microsoft (France)\n",
    "    \"https://openalex.org/I4210110431\",  # Microsoft (Netherlands)\n",
    "    \"https://openalex.org/I4210099966\",  # Microsoft (Denmark)\n",
    "    \"https://openalex.org/I4210108625\",  # Microsoft (United Kingdom)\n",
    "    \"https://openalex.org/I4210135422\",  # Microsoft (Norway)\n",
    "    \"https://openalex.org/I4210139986\",  # Microsoft (Switzerland)\n",
    "    \"https://openalex.org/I4210109507\",  # Microsoft (Ireland)\n",
    "    \"https://openalex.org/I4210092974\",  # Microsoft (Portugal)\n",
    "    \"https://openalex.org/I4210151458\",  # Microsoft (Belgium)\n",
    "]"
   ]
  },
  {
   "cell_type": "code",
   "execution_count": 4,
   "metadata": {},
   "outputs": [
    {
     "data": {
      "text/plain": [
       "{'https://openalex.org/I1291425158': 'Google',\n",
       " 'https://openalex.org/I4210113297': 'Google',\n",
       " 'https://openalex.org/I4210100430': 'Google',\n",
       " 'https://openalex.org/I4210148186': 'Google',\n",
       " 'https://openalex.org/I4210117425': 'Google',\n",
       " 'https://openalex.org/I4210131802': 'Google',\n",
       " 'https://openalex.org/I4210090411': 'DeepMind',\n",
       " 'https://openalex.org/I2252078561': 'Meta',\n",
       " 'https://openalex.org/I4210114444': 'Meta',\n",
       " 'https://openalex.org/I4210111288': 'Meta',\n",
       " 'https://openalex.org/I1290206253': 'Microsoft',\n",
       " 'https://openalex.org/I4210164937': 'Microsoft',\n",
       " 'https://openalex.org/I4210113369': 'Microsoft',\n",
       " 'https://openalex.org/I4210124949': 'Microsoft',\n",
       " 'https://openalex.org/I4210105678': 'Microsoft',\n",
       " 'https://openalex.org/I4210087053': 'Microsoft',\n",
       " 'https://openalex.org/I4210125051': 'Microsoft',\n",
       " 'https://openalex.org/I4210162141': 'Microsoft',\n",
       " 'https://openalex.org/I4210086099': 'Microsoft',\n",
       " 'https://openalex.org/I4210153468': 'Microsoft',\n",
       " 'https://openalex.org/I4210161634': 'Microsoft',\n",
       " 'https://openalex.org/I4210110431': 'Microsoft',\n",
       " 'https://openalex.org/I4210099966': 'Microsoft',\n",
       " 'https://openalex.org/I4210108625': 'Microsoft',\n",
       " 'https://openalex.org/I4210135422': 'Microsoft',\n",
       " 'https://openalex.org/I4210139986': 'Microsoft',\n",
       " 'https://openalex.org/I4210109507': 'Microsoft',\n",
       " 'https://openalex.org/I4210092974': 'Microsoft',\n",
       " 'https://openalex.org/I4210151458': 'Microsoft',\n",
       " 'https://openalex.org/I4210161460': 'OpenAI',\n",
       " 'https://openalex.org/I45928872': 'Alibaba',\n",
       " 'https://openalex.org/I4210095624': 'Alibaba',\n",
       " 'https://openalex.org/I4210086143': 'Alibaba',\n",
       " 'https://openalex.org/I1304085615': 'Nvidia',\n",
       " 'https://openalex.org/I4210127875': 'Nvidia',\n",
       " 'https://openalex.org/I98301712': 'Baidu',\n",
       " 'https://openalex.org/I1311688040': 'Amazon',\n",
       " 'https://openalex.org/I4210089985': 'Amazon',\n",
       " 'https://openalex.org/I4210123934': 'Amazon',\n",
       " 'https://openalex.org/I2250653659': 'Tencent',\n",
       " 'https://openalex.org/I4210103558': 'Tencent'}"
      ]
     },
     "execution_count": 4,
     "metadata": {},
     "output_type": "execute_result"
    }
   ],
   "source": [
    "selected_institutions_text = \"\"\"\n",
    "\"https://openalex.org/I1291425158\",  # Google (United States)\n",
    "\"https://openalex.org/I4210113297\",  # Google (United Kingdom)\n",
    "\"https://openalex.org/I4210100430\",  # Google (Switzerland)\n",
    "\"https://openalex.org/I4210148186\",  # Google (Canada)\n",
    "\"https://openalex.org/I4210117425\",  # Google (Israel)\n",
    "\"https://openalex.org/I4210131802\",  # Google (Ireland)\n",
    "\"https://openalex.org/I4210090411\",  # DeepMind (United Kingdom)\n",
    "\"https://openalex.org/I2252078561\",  # Meta (Israel)\n",
    "\"https://openalex.org/I4210114444\",  # Meta (United States)\n",
    "\"https://openalex.org/I4210111288\",  # Meta (United Kingdom)\n",
    "\"https://openalex.org/I1290206253\",  # Microsoft (United States)\n",
    "\"https://openalex.org/I4210164937\",  # Microsoft Research (United Kingdom)\n",
    "\"https://openalex.org/I4210113369\",  # Microsoft Research Asia (China)\n",
    "\"https://openalex.org/I4210124949\",  # Microsoft Research (India)\n",
    "\"https://openalex.org/I4210105678\",  # Microsoft (Finland)\n",
    "\"https://openalex.org/I4210087053\",  # Microsoft (Germany)\n",
    "\"https://openalex.org/I4210125051\",  # Microsoft (Israel)\n",
    "\"https://openalex.org/I4210162141\",  # Microsoft (India)\n",
    "\"https://openalex.org/I4210086099\",  # Microsoft (Brazil)\n",
    "\"https://openalex.org/I4210153468\",  # Microsoft (Canada)\n",
    "\"https://openalex.org/I4210161634\",  # Microsoft (France)\n",
    "\"https://openalex.org/I4210110431\",  # Microsoft (Netherlands)\n",
    "\"https://openalex.org/I4210099966\",  # Microsoft (Denmark)\n",
    "\"https://openalex.org/I4210108625\",  # Microsoft (United Kingdom)\n",
    "\"https://openalex.org/I4210135422\",  # Microsoft (Norway)\n",
    "\"https://openalex.org/I4210139986\",  # Microsoft (Switzerland)\n",
    "\"https://openalex.org/I4210109507\",  # Microsoft (Ireland)\n",
    "\"https://openalex.org/I4210092974\",  # Microsoft (Portugal)\n",
    "\"https://openalex.org/I4210151458\",  # Microsoft (Belgium)\n",
    "\"https://openalex.org/I4210161460\",  # OpenAI (United States)\n",
    "\"https://openalex.org/I45928872\",  # Alibaba Group (China)\n",
    "\"https://openalex.org/I4210095624\",  # Alibaba Group (United States)\n",
    "\"https://openalex.org/I4210086143\",  # Alibaba Group (Cayman Islands)\n",
    "\"https://openalex.org/I1304085615\",  # Nvidia (United Kingdom)\n",
    "\"https://openalex.org/I4210127875\",  # Nvidia (United States)\n",
    "\"https://openalex.org/I98301712\",  # Baidu (China)\n",
    "\"https://openalex.org/I1311688040\",  # Amazon (United States)\n",
    "\"https://openalex.org/I4210089985\",  # Amazon (Germany)\n",
    "\"https://openalex.org/I4210123934\",  # Amazon (United Kingdom)\n",
    "\"https://openalex.org/I2250653659\",  # Tencent (China)\n",
    "\"https://openalex.org/I4210103558\",  # Tencent Healthcare (China)\n",
    "\"\"\"\n",
    "\n",
    "# Map each institution id to the first word after the comment\n",
    "institution_aliases = {}\n",
    "for line in selected_institutions_text.splitlines()[1:]:\n",
    "    institution_id = line.split(\",\")[0].strip('\"')\n",
    "    institution_name = line.split(\"#\")[1].strip()\n",
    "    institution_alias = institution_name.split(\" \")[0].strip()\n",
    "    institution_aliases[institution_id] = institution_alias\n",
    "institution_aliases"
   ]
  },
  {
   "cell_type": "code",
   "execution_count": 5,
   "metadata": {},
   "outputs": [
    {
     "data": {
      "text/plain": [
       "'https://openalex.org/I1290206253|https://openalex.org/I4210164937|https://openalex.org/I4210113369|https://openalex.org/I4210124949|https://openalex.org/I4210105678|https://openalex.org/I4210087053|https://openalex.org/I4210125051|https://openalex.org/I4210162141|https://openalex.org/I4210086099|https://openalex.org/I4210153468|https://openalex.org/I4210161634|https://openalex.org/I4210110431|https://openalex.org/I4210099966|https://openalex.org/I4210108625|https://openalex.org/I4210135422|https://openalex.org/I4210139986|https://openalex.org/I4210109507|https://openalex.org/I4210092974|https://openalex.org/I4210151458'"
      ]
     },
     "execution_count": 5,
     "metadata": {},
     "output_type": "execute_result"
    }
   ],
   "source": [
    "institution_query = \"|\".join(selected_institution_ids)\n",
    "institution_query"
   ]
  },
  {
   "cell_type": "code",
   "execution_count": 6,
   "metadata": {},
   "outputs": [],
   "source": [
    "concept_ids = [\n",
    "    'https://openalex.org/C154945302',  # Artificial intelligence\n",
    "    'https://openalex.org/C119857082',  # Machine learning\n",
    "]"
   ]
  },
  {
   "cell_type": "code",
   "execution_count": 7,
   "metadata": {},
   "outputs": [
    {
     "data": {
      "text/plain": [
       "'https://openalex.org/C154945302|https://openalex.org/C119857082'"
      ]
     },
     "execution_count": 7,
     "metadata": {},
     "output_type": "execute_result"
    }
   ],
   "source": [
    "concept_query = \"|\".join(concept_ids)\n",
    "concept_query"
   ]
  },
  {
   "cell_type": "code",
   "execution_count": 24,
   "metadata": {},
   "outputs": [
    {
     "name": "stderr",
     "output_type": "stream",
     "text": [
      "0page [00:00, ?page/s]"
     ]
    },
    {
     "name": "stderr",
     "output_type": "stream",
     "text": [
      "27page [00:53,  1.98s/page]\n"
     ]
    },
    {
     "data": {
      "text/plain": [
       "5249"
      ]
     },
     "execution_count": 24,
     "metadata": {},
     "output_type": "execute_result"
    }
   ],
   "source": [
    "n_max = int(1e6)\n",
    "works_instance = Works()\n",
    "works = merge_pages(\n",
    "    works_instance \\\n",
    "        .filter(authorships={\"institutions\": {\"id\": institution_query}}) \\\n",
    "        .filter(concepts={\"id\": concept_query}) \\\n",
    "        .filter(from_publication_date=\"2000-01-01\") \\\n",
    "        .filter(to_publication_date=\"2009-12-31\") \\\n",
    "        # .filter(cited_by_count=\">9\") \\\n",
    "        .paginate(per_page=200, n_max=n_max)\n",
    ")\n",
    "assert len(works) < n_max\n",
    "len(works)"
   ]
  },
  {
   "cell_type": "code",
   "execution_count": 28,
   "metadata": {},
   "outputs": [],
   "source": [
    "# Save to avoid fetching every time\n",
    "timestamp = datetime.datetime.now()\n",
    "with open(data_file_location + f\"microsoft_works_openalex_{timestamp.strftime('%Y-%m-%d_%H-%M-%S')}\", \"wb\") as f:\n",
    "    obj = {\n",
    "        \"params\": works_instance.params,  # for reproducibility\n",
    "        \"works\": works,\n",
    "    }\n",
    "    pickle.dump(obj, f)"
   ]
  },
  {
   "cell_type": "code",
   "execution_count": 31,
   "metadata": {},
   "outputs": [
    {
     "data": {
      "text/plain": [
       "16663"
      ]
     },
     "execution_count": 31,
     "metadata": {},
     "output_type": "execute_result"
    }
   ],
   "source": [
    "with open(data_file_location + \"microsoft_works_openalex_2023-07-20_14-34-06\", \"rb\") as f:\n",
    "    works_obj = pickle.load(f)\n",
    "    works = works_obj[\"works\"]\n",
    "len(works)"
   ]
  },
  {
   "cell_type": "code",
   "execution_count": 32,
   "metadata": {},
   "outputs": [],
   "source": [
    "works_by_year = defaultdict(list)\n",
    "for work in works:\n",
    "    pub_year = work[\"publication_year\"]\n",
    "    works_by_year[pub_year].append(work)"
   ]
  },
  {
   "cell_type": "code",
   "execution_count": 33,
   "metadata": {},
   "outputs": [
    {
     "name": "stdout",
     "output_type": "stream",
     "text": [
      "2010 977\n",
      "2011 1015\n",
      "2012 1065\n",
      "2013 1168\n",
      "2014 1133\n",
      "2015 1051\n",
      "2016 1092\n",
      "2017 1113\n",
      "2018 1300\n",
      "2019 1616\n",
      "2020 1887\n",
      "2021 1937\n",
      "2022 946\n",
      "2023 363\n"
     ]
    }
   ],
   "source": [
    "for year in sorted(works_by_year.keys()):\n",
    "    print(year, len(works_by_year[year]))"
   ]
  },
  {
   "cell_type": "code",
   "execution_count": 34,
   "metadata": {},
   "outputs": [
    {
     "data": {
      "text/plain": [
       "['Exploring and evaluating personalized models for code generation',\n",
       " 'Towards Proactively Forecasting Sentence-Specific Information Popularity within Online News Documents',\n",
       " 'Efficient and Stable Information Directed Exploration for Continuous Reinforcement Learning',\n",
       " 'Bringing Old Films Back to Life',\n",
       " 'Learning Models of Individual Behavior in Chess',\n",
       " 'Integrating ANFIS and Qt Framework to Develop a Mobile-Based Typhoon Rainfall Forecasting System',\n",
       " 'App usage on-the-move: Context- and commute-aware next app prediction',\n",
       " 'Question-aware transformer models for consumer health question summarization',\n",
       " 'RSTT: Real-time Spatial Temporal Transformer for Space-Time Video Super-Resolution',\n",
       " 'CERT: Continual Pre-training on Sketches for Library-oriented Code Generation']"
      ]
     },
     "execution_count": 34,
     "metadata": {},
     "output_type": "execute_result"
    }
   ],
   "source": [
    "works_sample = rng.choice(works_by_year[2022], 10)\n",
    "[work[\"title\"] for work in works_sample]"
   ]
  },
  {
   "cell_type": "code",
   "execution_count": null,
   "metadata": {},
   "outputs": [],
   "source": []
  }
 ],
 "metadata": {
  "kernelspec": {
   "display_name": "epoch",
   "language": "python",
   "name": "python3"
  },
  "language_info": {
   "codemirror_mode": {
    "name": "ipython",
    "version": 3
   },
   "file_extension": ".py",
   "mimetype": "text/x-python",
   "name": "python",
   "nbconvert_exporter": "python",
   "pygments_lexer": "ipython3",
   "version": "3.11.3"
  },
  "orig_nbformat": 4
 },
 "nbformat": 4,
 "nbformat_minor": 2
}
