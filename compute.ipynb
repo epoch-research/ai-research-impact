{
 "cells": [
  {
   "cell_type": "code",
   "execution_count": 130,
   "metadata": {},
   "outputs": [],
   "source": [
    "from datetime import datetime\n",
    "import os\n",
    "import pandas as pd\n",
    "import plotly.express as px\n",
    "import plotly.graph_objects as go\n",
    "import plotly.io as pio\n",
    "\n",
    "from researcher_impact.plotting import save_plot"
   ]
  },
  {
   "cell_type": "code",
   "execution_count": 69,
   "metadata": {},
   "outputs": [],
   "source": [
    "pio.templates.default = \"plotly_white\""
   ]
  },
  {
   "cell_type": "code",
   "execution_count": 48,
   "metadata": {},
   "outputs": [],
   "source": [
    "result_file_location = 'results/'\n",
    "os.makedirs(result_file_location, exist_ok=True)"
   ]
  },
  {
   "cell_type": "code",
   "execution_count": 5,
   "metadata": {},
   "outputs": [],
   "source": [
    "company_aliases = {\n",
    "    \"Google\": \"Google\",\n",
    "    \"Google Research\": \"Google\",\n",
    "    \"Google Brain\": \"Google\",\n",
    "    \"Google Inc.\": \"Google\",\n",
    "    \"Google AI, Brain team\": \"Google\",\n",
    "    \"Google Research, Brain Team\": \"Google\",\n",
    "    \"Google AI\": \"Google\",\n",
    "    \"Google Brain,Google Research\": \"Google\",\n",
    "    \"Google Inc\": \"Google\",\n",
    "    \"DeepMind\": \"DeepMind\",\n",
    "    \"Google DeepMind\": \"DeepMind\",\n",
    "    \"Meta AI\": \"Meta\",\n",
    "    \"MetaAI\": \"Meta\",\n",
    "    \"Facebook AI Research\": \"Meta\",\n",
    "    \"Facebook AI research\": \"Meta\",\n",
    "    \"Facebook\": \"Meta\",\n",
    "    \"Facebook AI\": \"Meta\",\n",
    "    \"OpenAI\": \"OpenAI\",\n",
    "    \"Open AI\": \"OpenAI\",\n",
    "    \"Microsoft Research\": \"Microsoft\",\n",
    "    \"Microsoft\": \"Microsoft\",\n",
    "    \"Microsoft Research,Peking University\": \"Microsoft\",\n",
    "    \"Microsoft Bing\": \"Microsoft\",\n",
    "    \"Alibaba Group\": \"Alibaba\",\n",
    "    \"NVIDIA\": \"NVIDIA\",\n",
    "    \"Nvidia\": \"NVIDIA\",\n",
    "    \"Baidu Research- Silicon Valley AI Lab\": \"Baidu\",\n",
    "    \"Baidu\": \"Baidu\",\n",
    "    \"Amazon\": \"Amazon\",\n",
    "}"
   ]
  },
  {
   "attachments": {},
   "cell_type": "markdown",
   "metadata": {},
   "source": [
    "- Sort by publication date\n",
    "- Filter companies of interest + rename companies to consistent alias => new DataFrame\n",
    "- Get the maximum envelope of the data => new DataFrame\n",
    "- Add on the last maximum to the current date, so there's a horizontal line continuing until the current date"
   ]
  },
  {
   "cell_type": "code",
   "execution_count": 170,
   "metadata": {},
   "outputs": [],
   "source": [
    "# Download dataset from the Parameters, Compute and Data Trends in ML sheet\n",
    "sheet_id = '1AAIebjNsnJj_uKALHbXNfn3_YsT6sHXtCU0q7OIPuc4'\n",
    "data_url = f'https://docs.google.com/spreadsheets/d/{sheet_id}/gviz/tq?tqx=out:csv&sheet='\n",
    "df = pd.read_csv(data_url + 'ALL%20ML%20SYSTEMS')"
   ]
  },
  {
   "cell_type": "code",
   "execution_count": 171,
   "metadata": {},
   "outputs": [],
   "source": [
    "cols_of_interest = [\"System\", \"Organization\", \"Publication date\", \"Training compute (FLOP)\"]"
   ]
  },
  {
   "cell_type": "code",
   "execution_count": 172,
   "metadata": {},
   "outputs": [],
   "source": [
    "df = df.dropna(subset=[\"Organization\", \"Training compute (FLOP)\"])"
   ]
  },
  {
   "cell_type": "code",
   "execution_count": 173,
   "metadata": {},
   "outputs": [],
   "source": [
    "# Rejected samples\n",
    "# We don't think the full training run was actually done\n",
    "df.drop(df[df[\"System\"] == \"Megatron-LM (1T)\"].index, inplace=True)\n",
    "# Kingma was affiliated with OpenAI on the paper for this system, but only in the 2017 version rather than the original 2014 version\n",
    "df.drop(df[df[\"System\"] == \"ADAM (CIFAR-10)\"].index, inplace=True)\n",
    "\n"
   ]
  },
  {
   "cell_type": "code",
   "execution_count": 174,
   "metadata": {},
   "outputs": [],
   "source": [
    "df['Publication date'] = pd.to_datetime(df['Publication date'])  # Ensure date column is in datetime format"
   ]
  },
  {
   "cell_type": "code",
   "execution_count": 175,
   "metadata": {},
   "outputs": [],
   "source": [
    "df.sort_values('Publication date', inplace=True)\n",
    "df.reset_index(inplace=True)"
   ]
  },
  {
   "cell_type": "code",
   "execution_count": 176,
   "metadata": {},
   "outputs": [
    {
     "data": {
      "text/html": [
       "<div>\n",
       "<style scoped>\n",
       "    .dataframe tbody tr th:only-of-type {\n",
       "        vertical-align: middle;\n",
       "    }\n",
       "\n",
       "    .dataframe tbody tr th {\n",
       "        vertical-align: top;\n",
       "    }\n",
       "\n",
       "    .dataframe thead th {\n",
       "        text-align: right;\n",
       "    }\n",
       "</style>\n",
       "<table border=\"1\" class=\"dataframe\">\n",
       "  <thead>\n",
       "    <tr style=\"text-align: right;\">\n",
       "      <th></th>\n",
       "      <th>System</th>\n",
       "      <th>Organization</th>\n",
       "      <th>Publication date</th>\n",
       "      <th>Training compute (FLOP)</th>\n",
       "    </tr>\n",
       "  </thead>\n",
       "  <tbody>\n",
       "    <tr>\n",
       "      <th>0</th>\n",
       "      <td>Theseus</td>\n",
       "      <td>Bell Laboratories</td>\n",
       "      <td>1950-07-02</td>\n",
       "      <td>4.000000e+01</td>\n",
       "    </tr>\n",
       "    <tr>\n",
       "      <th>1</th>\n",
       "      <td>Perceptron Mark I</td>\n",
       "      <td>Cornell Aeronautical Laboratory</td>\n",
       "      <td>1957-01-01</td>\n",
       "      <td>6.950000e+05</td>\n",
       "    </tr>\n",
       "    <tr>\n",
       "      <th>2</th>\n",
       "      <td>Pandemonium (morse)</td>\n",
       "      <td>Massachusetts Institute of Technology</td>\n",
       "      <td>1959-02-01</td>\n",
       "      <td>6.000000e+08</td>\n",
       "    </tr>\n",
       "    <tr>\n",
       "      <th>3</th>\n",
       "      <td>Samuel Neural Checkers</td>\n",
       "      <td>IBM</td>\n",
       "      <td>1959-07-01</td>\n",
       "      <td>4.280000e+08</td>\n",
       "    </tr>\n",
       "    <tr>\n",
       "      <th>4</th>\n",
       "      <td>ADALINE</td>\n",
       "      <td>Stanford University</td>\n",
       "      <td>1960-06-30</td>\n",
       "      <td>9.900000e+03</td>\n",
       "    </tr>\n",
       "    <tr>\n",
       "      <th>...</th>\n",
       "      <td>...</td>\n",
       "      <td>...</td>\n",
       "      <td>...</td>\n",
       "      <td>...</td>\n",
       "    </tr>\n",
       "    <tr>\n",
       "      <th>171</th>\n",
       "      <td>BLOOM</td>\n",
       "      <td>Hugging Face, BigScience</td>\n",
       "      <td>2022-11-08</td>\n",
       "      <td>1.800000e+23</td>\n",
       "    </tr>\n",
       "    <tr>\n",
       "      <th>172</th>\n",
       "      <td>AR-LDM</td>\n",
       "      <td>Alibaba,University of Waterloo,Vector Institute</td>\n",
       "      <td>2022-11-20</td>\n",
       "      <td>5.100000e+20</td>\n",
       "    </tr>\n",
       "    <tr>\n",
       "      <th>173</th>\n",
       "      <td>LLaMA (65B)</td>\n",
       "      <td>Meta AI</td>\n",
       "      <td>2023-02-24</td>\n",
       "      <td>5.500000e+23</td>\n",
       "    </tr>\n",
       "    <tr>\n",
       "      <th>174</th>\n",
       "      <td>GPT-4</td>\n",
       "      <td>OpenAI</td>\n",
       "      <td>2023-03-15</td>\n",
       "      <td>2.100000e+25</td>\n",
       "    </tr>\n",
       "    <tr>\n",
       "      <th>175</th>\n",
       "      <td>PaLM 2</td>\n",
       "      <td>Google Research</td>\n",
       "      <td>2023-05-10</td>\n",
       "      <td>7.340000e+24</td>\n",
       "    </tr>\n",
       "  </tbody>\n",
       "</table>\n",
       "<p>176 rows × 4 columns</p>\n",
       "</div>"
      ],
      "text/plain": [
       "                     System                                     Organization  \\\n",
       "0                   Theseus                                Bell Laboratories   \n",
       "1         Perceptron Mark I                  Cornell Aeronautical Laboratory   \n",
       "2       Pandemonium (morse)            Massachusetts Institute of Technology   \n",
       "3    Samuel Neural Checkers                                              IBM   \n",
       "4                   ADALINE                              Stanford University   \n",
       "..                      ...                                              ...   \n",
       "171                   BLOOM                         Hugging Face, BigScience   \n",
       "172                  AR-LDM  Alibaba,University of Waterloo,Vector Institute   \n",
       "173             LLaMA (65B)                                          Meta AI   \n",
       "174                   GPT-4                                           OpenAI   \n",
       "175                  PaLM 2                                  Google Research   \n",
       "\n",
       "    Publication date  Training compute (FLOP)  \n",
       "0         1950-07-02             4.000000e+01  \n",
       "1         1957-01-01             6.950000e+05  \n",
       "2         1959-02-01             6.000000e+08  \n",
       "3         1959-07-01             4.280000e+08  \n",
       "4         1960-06-30             9.900000e+03  \n",
       "..               ...                      ...  \n",
       "171       2022-11-08             1.800000e+23  \n",
       "172       2022-11-20             5.100000e+20  \n",
       "173       2023-02-24             5.500000e+23  \n",
       "174       2023-03-15             2.100000e+25  \n",
       "175       2023-05-10             7.340000e+24  \n",
       "\n",
       "[176 rows x 4 columns]"
      ]
     },
     "execution_count": 176,
     "metadata": {},
     "output_type": "execute_result"
    }
   ],
   "source": [
    "df[cols_of_interest]"
   ]
  },
  {
   "attachments": {},
   "cell_type": "markdown",
   "metadata": {},
   "source": [
    "## Filter companies of interest + rename companies to consistent alias"
   ]
  },
  {
   "cell_type": "code",
   "execution_count": 177,
   "metadata": {},
   "outputs": [
    {
     "name": "stdout",
     "output_type": "stream",
     "text": [
      "Bell Laboratories\n",
      "Cornell Aeronautical Laboratory\n",
      "Massachusetts Institute of Technology\n",
      "IBM\n",
      "Stanford University\n",
      "NHK Broadcasting Science Research Laboratories\n",
      "University of California\n",
      "Princeton University\n",
      "Stanford, CalTech\n",
      "AT&T Bell Laboratories\n",
      "Carnegie Mellon University \n",
      "IBM\n",
      "Indian Statistical Institute\n",
      "Carnegie Mellon University\n",
      "The Technical University of Munich\n",
      "National Chiao Tung University\n",
      "AT&T Labs\n",
      "Mitsubishi Electric Research Labs and Compaq CRL\n",
      "Université de Montréal\n",
      "IDSIA and TU Munich\n",
      "Stanford\n",
      "IDSIA ; University of Lugano & SUPSI\n",
      "University of Montreal\n",
      "Brno University of Technology, Johns Hopkins University\n",
      "Brno University of Technology, Johns Hopkins University\n",
      "IDSIA\n",
      "University of Toronto\n",
      "University of Toronto\n",
      "University of Toronto\n",
      "Google\n",
      "University of Toronto\n",
      "Universidad Nacional de Cordoba,Xerox Research Centre Europe,Inteligent Systems Lab Amsterdam,University of Amsterdam,LEAR Team,INRIA Grenoble\n",
      "IDSIA\n",
      "Google\n",
      "NYU\n",
      "CNRS, Google\n",
      "DeepMind\n",
      "Univeristy of Amsterdam\n",
      "Universite de Montréal\n",
      "Microsoft,Xi’an Jiaotong University,University of Science and Technology of China\n",
      "University College London\n",
      "Universite de Montréal, Jacobs University Bremen\n",
      "University of Oxford\n",
      "Google\n",
      "Microsoft Research\n",
      "Google,University of Michigan,University of North Carolina\n",
      "Google DeepMind\n",
      "Baidu Research- Silicon Valley AI Lab\n",
      "Microsoft\n",
      "DeepMind\n",
      "Microsoft research, Tsinghua university\n",
      "University of Toronto\n",
      "University of Toronto\n",
      "Google\n",
      "Google\n",
      "Google Brain\n",
      "DeepMind\n",
      "Carnegie Mellon University\n",
      "University of Alberta, Charles University, Czech Technical University\n",
      "Google Brain,Jagiellonian University,Cracow\n",
      "Google Brain,Google Research\n",
      "Google Research,CMU\n",
      "OpenAI\n",
      "DeepMind\n",
      "Johns Hopkins University, Stanford, Google AI\n",
      "DeepMind\n",
      "Google Brain\n",
      "DeepMind\n",
      "University of Washington\n",
      "Facebook\n",
      "OpenAI\n",
      "DeepMind\n",
      "Heriot-Watt University,DeepMind\n",
      "Google AI\n",
      "University of Freiburg\n",
      "DeepMind,University of Oxford,Google Brain,Carnegie Mellon University\n",
      "OpenAI\n",
      "MIT\n",
      "Jane Street\n",
      "Tel Aviv University, MIT\n",
      "Google\n",
      "Google\n",
      "DeepMind\n",
      "Facebook AI\n",
      "Facebook AI Research\n",
      "MIT\n",
      "NVIDIA\n",
      "NVIDIA\n",
      "OpenAI\n",
      "Brown and Facebook AI Research\n",
      "Open AI\n",
      "Google\n",
      "Google\n",
      "DeepMind\n",
      "DeepMind\n",
      "OpenAI\n",
      "OpenAI\n",
      "DeepMind\n",
      "Google AI\n",
      "Google research, Toyota Technological Institute at Chicago\n",
      "Microsoft\n",
      "Salesforce research, Stanford\n",
      "Stanford University, Google Brain\n",
      "MIT-IBM Watson AI Lab\n",
      "OpenAI\n",
      "Open AI\n",
      "Open AI\n",
      "Google Brain\n",
      "Google Brain\n",
      "Facebook AI \n",
      "Google Brain\n",
      "Facebook\n",
      "Tsinghua University, Princeton, Mila- Quebec AI, University de Montreal, HEC, CIFAR\n",
      "Tsinghua University, BAAI\n",
      "American University of Beirut\n",
      "OpenAI\n",
      "Open AI\n",
      "BAAI\n",
      "Google Brain\n",
      "BAAI\n",
      "BAAI\n",
      "Google AI, Brain team\n",
      "Alibaba Group\n",
      "Google Research\n",
      "EleutherAI\n",
      "Alibaba Group\n",
      "Huawei Noah's Ark Lab\n",
      "Technical University of Munich,Med AI Technology,Google AI,NVIDIA,Oak Ridge National Laboratory\n",
      "Naver Corp\n",
      "Google cloud AI,Google research\n",
      "Tsinghua University, DAMO academy Alibaba\n",
      "Google Brain\n",
      "Microsoft\n",
      "UC Berkeley\n",
      "Google AI\n",
      "Google\n",
      "Baidu Inc.\n",
      "Facebook AI Research\n",
      "DeepMind\n",
      "Facebook AI Research,Inria\n",
      "AI21 Labs\n",
      "Facebook\n",
      "Alibaba\n",
      "Microsoft,NVIDIA\n",
      "Inspur\n",
      "Hugging Face,Brown University,BigScience\n",
      "LightOn, LPENS\n",
      "Inspur\n",
      "Microsoft Research,Peking University\n",
      "DeepMind\n",
      "Baidu\n",
      "Google Brain\n",
      "DeepMind\n",
      "EleutherAI\n",
      "Google\n",
      "Tsinghua University\n",
      "DeepMind\n",
      "Google Research\n",
      "Stability AI, Runway\n",
      "MetaAI\n",
      "Meta AI\n",
      "DeepMind\n",
      "Google\n",
      "Google Research\n",
      "Yandex\n",
      "AI Sweden, RISE\n",
      "Google Research\n",
      "Meta AI\n",
      "Amazon\n",
      "Tsinghua KEG\n",
      "OpenAI\n",
      "Hugging Face, BigScience\n",
      "Alibaba,University of Waterloo,Vector Institute\n",
      "Meta AI\n",
      "OpenAI\n",
      "Google Research\n"
     ]
    },
    {
     "data": {
      "text/html": [
       "<div>\n",
       "<style scoped>\n",
       "    .dataframe tbody tr th:only-of-type {\n",
       "        vertical-align: middle;\n",
       "    }\n",
       "\n",
       "    .dataframe tbody tr th {\n",
       "        vertical-align: top;\n",
       "    }\n",
       "\n",
       "    .dataframe thead th {\n",
       "        text-align: right;\n",
       "    }\n",
       "</style>\n",
       "<table border=\"1\" class=\"dataframe\">\n",
       "  <thead>\n",
       "    <tr style=\"text-align: right;\">\n",
       "      <th></th>\n",
       "      <th>System</th>\n",
       "      <th>Organization</th>\n",
       "      <th>Publication date</th>\n",
       "      <th>Training compute (FLOP)</th>\n",
       "    </tr>\n",
       "  </thead>\n",
       "  <tbody>\n",
       "    <tr>\n",
       "      <th>29</th>\n",
       "      <td>Unsupervised High-level Feature Learner</td>\n",
       "      <td>Google</td>\n",
       "      <td>2012-07-12</td>\n",
       "      <td>6.000000e+17</td>\n",
       "    </tr>\n",
       "    <tr>\n",
       "      <th>33</th>\n",
       "      <td>Word2Vec (large)</td>\n",
       "      <td>Google</td>\n",
       "      <td>2013-10-16</td>\n",
       "      <td>3.890000e+16</td>\n",
       "    </tr>\n",
       "    <tr>\n",
       "      <th>35</th>\n",
       "      <td>TransE</td>\n",
       "      <td>Google</td>\n",
       "      <td>2013-12-05</td>\n",
       "      <td>1.340000e+18</td>\n",
       "    </tr>\n",
       "    <tr>\n",
       "      <th>36</th>\n",
       "      <td>DQN</td>\n",
       "      <td>DeepMind</td>\n",
       "      <td>2013-12-19</td>\n",
       "      <td>2.300000e+15</td>\n",
       "    </tr>\n",
       "    <tr>\n",
       "      <th>39</th>\n",
       "      <td>SPPNet</td>\n",
       "      <td>Microsoft</td>\n",
       "      <td>2014-06-18</td>\n",
       "      <td>3.410000e+18</td>\n",
       "    </tr>\n",
       "    <tr>\n",
       "      <th>...</th>\n",
       "      <td>...</td>\n",
       "      <td>...</td>\n",
       "      <td>...</td>\n",
       "      <td>...</td>\n",
       "    </tr>\n",
       "    <tr>\n",
       "      <th>168</th>\n",
       "      <td>AlexaTM 20B</td>\n",
       "      <td>Amazon</td>\n",
       "      <td>2022-08-02</td>\n",
       "      <td>2.040000e+23</td>\n",
       "    </tr>\n",
       "    <tr>\n",
       "      <th>170</th>\n",
       "      <td>Whisper</td>\n",
       "      <td>OpenAI</td>\n",
       "      <td>2022-09-21</td>\n",
       "      <td>4.650000e+22</td>\n",
       "    </tr>\n",
       "    <tr>\n",
       "      <th>173</th>\n",
       "      <td>LLaMA (65B)</td>\n",
       "      <td>Meta</td>\n",
       "      <td>2023-02-24</td>\n",
       "      <td>5.500000e+23</td>\n",
       "    </tr>\n",
       "    <tr>\n",
       "      <th>174</th>\n",
       "      <td>GPT-4</td>\n",
       "      <td>OpenAI</td>\n",
       "      <td>2023-03-15</td>\n",
       "      <td>2.100000e+25</td>\n",
       "    </tr>\n",
       "    <tr>\n",
       "      <th>175</th>\n",
       "      <td>PaLM 2</td>\n",
       "      <td>Google</td>\n",
       "      <td>2023-05-10</td>\n",
       "      <td>7.340000e+24</td>\n",
       "    </tr>\n",
       "  </tbody>\n",
       "</table>\n",
       "<p>100 rows × 4 columns</p>\n",
       "</div>"
      ],
      "text/plain": [
       "                                      System Organization Publication date  \\\n",
       "29   Unsupervised High-level Feature Learner       Google       2012-07-12   \n",
       "33                          Word2Vec (large)       Google       2013-10-16   \n",
       "35                                    TransE       Google       2013-12-05   \n",
       "36                                       DQN     DeepMind       2013-12-19   \n",
       "39                                    SPPNet    Microsoft       2014-06-18   \n",
       "..                                       ...          ...              ...   \n",
       "168                              AlexaTM 20B       Amazon       2022-08-02   \n",
       "170                                  Whisper       OpenAI       2022-09-21   \n",
       "173                              LLaMA (65B)         Meta       2023-02-24   \n",
       "174                                    GPT-4       OpenAI       2023-03-15   \n",
       "175                                   PaLM 2       Google       2023-05-10   \n",
       "\n",
       "     Training compute (FLOP)  \n",
       "29              6.000000e+17  \n",
       "33              3.890000e+16  \n",
       "35              1.340000e+18  \n",
       "36              2.300000e+15  \n",
       "39              3.410000e+18  \n",
       "..                       ...  \n",
       "168             2.040000e+23  \n",
       "170             4.650000e+22  \n",
       "173             5.500000e+23  \n",
       "174             2.100000e+25  \n",
       "175             7.340000e+24  \n",
       "\n",
       "[100 rows x 4 columns]"
      ]
     },
     "execution_count": 177,
     "metadata": {},
     "output_type": "execute_result"
    }
   ],
   "source": [
    "rows = []\n",
    "for i, row in df.iterrows():\n",
    "    orgs = row[\"Organization\"]\n",
    "    print(orgs)\n",
    "    org_list = [org.strip() for org in orgs.split(\",\")]\n",
    "    for org in org_list:\n",
    "        if org in company_aliases.keys():\n",
    "            alias = company_aliases[org]\n",
    "            new_row = row.copy()\n",
    "            new_row[\"Organization\"] = alias\n",
    "            rows.append(new_row)\n",
    "\n",
    "company_df = pd.DataFrame(rows)\n",
    "company_df[cols_of_interest]"
   ]
  },
  {
   "cell_type": "code",
   "execution_count": 178,
   "metadata": {},
   "outputs": [],
   "source": [
    "company_max_compute_df = company_df.copy()"
   ]
  },
  {
   "cell_type": "code",
   "execution_count": 179,
   "metadata": {},
   "outputs": [
    {
     "data": {
      "text/html": [
       "<div>\n",
       "<style scoped>\n",
       "    .dataframe tbody tr th:only-of-type {\n",
       "        vertical-align: middle;\n",
       "    }\n",
       "\n",
       "    .dataframe tbody tr th {\n",
       "        vertical-align: top;\n",
       "    }\n",
       "\n",
       "    .dataframe thead th {\n",
       "        text-align: right;\n",
       "    }\n",
       "</style>\n",
       "<table border=\"1\" class=\"dataframe\">\n",
       "  <thead>\n",
       "    <tr style=\"text-align: right;\">\n",
       "      <th></th>\n",
       "      <th>System</th>\n",
       "      <th>Organization</th>\n",
       "      <th>Publication date</th>\n",
       "      <th>Training compute (FLOP)</th>\n",
       "    </tr>\n",
       "  </thead>\n",
       "  <tbody>\n",
       "    <tr>\n",
       "      <th>29</th>\n",
       "      <td>Unsupervised High-level Feature Learner</td>\n",
       "      <td>Google</td>\n",
       "      <td>2012-07-12</td>\n",
       "      <td>6.000000e+17</td>\n",
       "    </tr>\n",
       "    <tr>\n",
       "      <th>33</th>\n",
       "      <td>Word2Vec (large)</td>\n",
       "      <td>Google</td>\n",
       "      <td>2013-10-16</td>\n",
       "      <td>6.000000e+17</td>\n",
       "    </tr>\n",
       "    <tr>\n",
       "      <th>35</th>\n",
       "      <td>TransE</td>\n",
       "      <td>Google</td>\n",
       "      <td>2013-12-05</td>\n",
       "      <td>1.340000e+18</td>\n",
       "    </tr>\n",
       "    <tr>\n",
       "      <th>36</th>\n",
       "      <td>DQN</td>\n",
       "      <td>DeepMind</td>\n",
       "      <td>2013-12-19</td>\n",
       "      <td>2.300000e+15</td>\n",
       "    </tr>\n",
       "    <tr>\n",
       "      <th>39</th>\n",
       "      <td>SPPNet</td>\n",
       "      <td>Microsoft</td>\n",
       "      <td>2014-06-18</td>\n",
       "      <td>3.410000e+18</td>\n",
       "    </tr>\n",
       "    <tr>\n",
       "      <th>...</th>\n",
       "      <td>...</td>\n",
       "      <td>...</td>\n",
       "      <td>...</td>\n",
       "      <td>...</td>\n",
       "    </tr>\n",
       "    <tr>\n",
       "      <th>168</th>\n",
       "      <td>AlexaTM 20B</td>\n",
       "      <td>Amazon</td>\n",
       "      <td>2022-08-02</td>\n",
       "      <td>2.040000e+23</td>\n",
       "    </tr>\n",
       "    <tr>\n",
       "      <th>170</th>\n",
       "      <td>Whisper</td>\n",
       "      <td>OpenAI</td>\n",
       "      <td>2022-09-21</td>\n",
       "      <td>3.140000e+23</td>\n",
       "    </tr>\n",
       "    <tr>\n",
       "      <th>173</th>\n",
       "      <td>LLaMA (65B)</td>\n",
       "      <td>Meta</td>\n",
       "      <td>2023-02-24</td>\n",
       "      <td>5.500000e+23</td>\n",
       "    </tr>\n",
       "    <tr>\n",
       "      <th>174</th>\n",
       "      <td>GPT-4</td>\n",
       "      <td>OpenAI</td>\n",
       "      <td>2023-03-15</td>\n",
       "      <td>2.100000e+25</td>\n",
       "    </tr>\n",
       "    <tr>\n",
       "      <th>175</th>\n",
       "      <td>PaLM 2</td>\n",
       "      <td>Google</td>\n",
       "      <td>2023-05-10</td>\n",
       "      <td>7.340000e+24</td>\n",
       "    </tr>\n",
       "  </tbody>\n",
       "</table>\n",
       "<p>100 rows × 4 columns</p>\n",
       "</div>"
      ],
      "text/plain": [
       "                                      System Organization Publication date  \\\n",
       "29   Unsupervised High-level Feature Learner       Google       2012-07-12   \n",
       "33                          Word2Vec (large)       Google       2013-10-16   \n",
       "35                                    TransE       Google       2013-12-05   \n",
       "36                                       DQN     DeepMind       2013-12-19   \n",
       "39                                    SPPNet    Microsoft       2014-06-18   \n",
       "..                                       ...          ...              ...   \n",
       "168                              AlexaTM 20B       Amazon       2022-08-02   \n",
       "170                                  Whisper       OpenAI       2022-09-21   \n",
       "173                              LLaMA (65B)         Meta       2023-02-24   \n",
       "174                                    GPT-4       OpenAI       2023-03-15   \n",
       "175                                   PaLM 2       Google       2023-05-10   \n",
       "\n",
       "     Training compute (FLOP)  \n",
       "29              6.000000e+17  \n",
       "33              6.000000e+17  \n",
       "35              1.340000e+18  \n",
       "36              2.300000e+15  \n",
       "39              3.410000e+18  \n",
       "..                       ...  \n",
       "168             2.040000e+23  \n",
       "170             3.140000e+23  \n",
       "173             5.500000e+23  \n",
       "174             2.100000e+25  \n",
       "175             7.340000e+24  \n",
       "\n",
       "[100 rows x 4 columns]"
      ]
     },
     "execution_count": 179,
     "metadata": {},
     "output_type": "execute_result"
    }
   ],
   "source": [
    "company_max_compute_df[\"Training compute (FLOP)\"] = company_df.groupby(\"Organization\")['Training compute (FLOP)'].cummax()\n",
    "company_max_compute_df[cols_of_interest]"
   ]
  },
  {
   "cell_type": "code",
   "execution_count": 180,
   "metadata": {},
   "outputs": [
    {
     "name": "stdout",
     "output_type": "stream",
     "text": [
      "Alibaba 3.6e+22\n",
      "Amazon 2.04e+23\n",
      "Baidu 3.14e+23\n",
      "DeepMind 6.31e+23\n",
      "Google 7.34e+24\n",
      "Meta 5.5e+23\n",
      "Microsoft 1.35e+24\n",
      "NVIDIA 1.35e+24\n",
      "OpenAI 2.1e+25\n"
     ]
    }
   ],
   "source": [
    "rows_to_add = []\n",
    "for org, group_data in company_max_compute_df.groupby(\"Organization\"):\n",
    "    print(org, group_data[\"Training compute (FLOP)\"].max())\n",
    "    current_date = datetime.now().date()  # Get the current date\n",
    "    compute = group_data[\"Training compute (FLOP)\"].max()\n",
    "    # Create a new row with NaN for all columns except \"Organization\", \"Publication date\", and \"Training compute (FLOP)\"\n",
    "    new_row = pd.Series(\n",
    "        {\n",
    "            \"Organization\": org,\n",
    "            \"Publication date\": current_date,\n",
    "            \"Training compute (FLOP)\": compute,\n",
    "        }\n",
    "    )\n",
    "    rows_to_add.append(new_row)\n",
    "\n",
    "# Create a DataFrame from the rows to be added\n",
    "new_data = pd.DataFrame(rows_to_add)\n",
    "\n",
    "# Concatenate the new_data DataFrame to the original filtered_df\n",
    "company_max_compute_df = pd.concat([company_max_compute_df, new_data], ignore_index=True)"
   ]
  },
  {
   "cell_type": "code",
   "execution_count": 181,
   "metadata": {},
   "outputs": [
    {
     "data": {
      "text/html": [
       "<div>\n",
       "<style scoped>\n",
       "    .dataframe tbody tr th:only-of-type {\n",
       "        vertical-align: middle;\n",
       "    }\n",
       "\n",
       "    .dataframe tbody tr th {\n",
       "        vertical-align: top;\n",
       "    }\n",
       "\n",
       "    .dataframe thead th {\n",
       "        text-align: right;\n",
       "    }\n",
       "</style>\n",
       "<table border=\"1\" class=\"dataframe\">\n",
       "  <thead>\n",
       "    <tr style=\"text-align: right;\">\n",
       "      <th></th>\n",
       "      <th>index</th>\n",
       "      <th>System</th>\n",
       "      <th>Domain</th>\n",
       "      <th>Task</th>\n",
       "      <th>Organization</th>\n",
       "      <th>Organization Categorization</th>\n",
       "      <th>Authors</th>\n",
       "      <th>Publication date</th>\n",
       "      <th>Reference</th>\n",
       "      <th>Link</th>\n",
       "      <th>...</th>\n",
       "      <th>Training time notes</th>\n",
       "      <th>Training hardware</th>\n",
       "      <th>Approach</th>\n",
       "      <th>Training compute cost (2020 USD)</th>\n",
       "      <th>Compute cost notes</th>\n",
       "      <th>Self-supervised training</th>\n",
       "      <th>Compute Sponsor Categorization</th>\n",
       "      <th>Epistemic status</th>\n",
       "      <th>Abstract</th>\n",
       "      <th>Last Modified</th>\n",
       "    </tr>\n",
       "  </thead>\n",
       "  <tbody>\n",
       "    <tr>\n",
       "      <th>0</th>\n",
       "      <td>374.0</td>\n",
       "      <td>Unsupervised High-level Feature Learner</td>\n",
       "      <td>Vision</td>\n",
       "      <td>Image classification</td>\n",
       "      <td>Google</td>\n",
       "      <td>Industry</td>\n",
       "      <td>Quoc V. Le, Marc'Aurelio Ranzato, Rajat Monga,...</td>\n",
       "      <td>2012-07-12 00:00:00</td>\n",
       "      <td>Building High-level Features Using Large Scale...</td>\n",
       "      <td>https://arxiv.org/pdf/1112.6209.pdf</td>\n",
       "      <td>...</td>\n",
       "      <td>\"We train this network using model parallelism...</td>\n",
       "      <td>NaN</td>\n",
       "      <td>Unsupervised</td>\n",
       "      <td>NaN</td>\n",
       "      <td>Hardware not reported</td>\n",
       "      <td>NaN</td>\n",
       "      <td>Industry</td>\n",
       "      <td>Likely</td>\n",
       "      <td>We consider the problem of building high-level...</td>\n",
       "      <td>2023-06-15 15:50:10</td>\n",
       "    </tr>\n",
       "    <tr>\n",
       "      <th>1</th>\n",
       "      <td>359.0</td>\n",
       "      <td>Word2Vec (large)</td>\n",
       "      <td>Language</td>\n",
       "      <td>Semantic embedding</td>\n",
       "      <td>Google</td>\n",
       "      <td>Industry</td>\n",
       "      <td>T Mikolov, I Sutskever, K Chen, GS Corrado</td>\n",
       "      <td>2013-10-16 00:00:00</td>\n",
       "      <td>Distributed Representations of Words and Phras...</td>\n",
       "      <td>https://arxiv.org/abs/1310.4546</td>\n",
       "      <td>...</td>\n",
       "      <td>NaN</td>\n",
       "      <td>NaN</td>\n",
       "      <td>NaN</td>\n",
       "      <td>0.55</td>\n",
       "      <td>NaN</td>\n",
       "      <td>NaN</td>\n",
       "      <td>Industry</td>\n",
       "      <td>NaN</td>\n",
       "      <td>NaN</td>\n",
       "      <td>2023-06-14 14:54:39</td>\n",
       "    </tr>\n",
       "    <tr>\n",
       "      <th>2</th>\n",
       "      <td>355.0</td>\n",
       "      <td>TransE</td>\n",
       "      <td>Other</td>\n",
       "      <td>Entity embedding</td>\n",
       "      <td>Google</td>\n",
       "      <td>Industry - Academia Collaboration</td>\n",
       "      <td>Antoine Bordes, Nicolas Usunier, Alberto Garci...</td>\n",
       "      <td>2013-12-05 00:00:00</td>\n",
       "      <td>Translating Embeddings for Modeling Multi- rel...</td>\n",
       "      <td>https://papers.nips.cc/paper/2013/hash/1cecc7a...</td>\n",
       "      <td>...</td>\n",
       "      <td>NaN</td>\n",
       "      <td>NaN</td>\n",
       "      <td>NaN</td>\n",
       "      <td>17.58</td>\n",
       "      <td>NaN</td>\n",
       "      <td>NaN</td>\n",
       "      <td>Industry</td>\n",
       "      <td>NaN</td>\n",
       "      <td>NaN</td>\n",
       "      <td>2023-05-29 20:51:04</td>\n",
       "    </tr>\n",
       "    <tr>\n",
       "      <th>3</th>\n",
       "      <td>352.0</td>\n",
       "      <td>DQN</td>\n",
       "      <td>Games</td>\n",
       "      <td>Atari</td>\n",
       "      <td>DeepMind</td>\n",
       "      <td>Industry</td>\n",
       "      <td>V Mnih, K Kavukcuoglu, D Silver, A Graves</td>\n",
       "      <td>2013-12-19 00:00:00</td>\n",
       "      <td>Playing Atari with Deep Reinforcement Learning</td>\n",
       "      <td>https://arxiv.org/abs/1312.5602</td>\n",
       "      <td>...</td>\n",
       "      <td>NaN</td>\n",
       "      <td>NaN</td>\n",
       "      <td>NaN</td>\n",
       "      <td>0.04</td>\n",
       "      <td>NaN</td>\n",
       "      <td>NaN</td>\n",
       "      <td>Industry</td>\n",
       "      <td>NaN</td>\n",
       "      <td>NaN</td>\n",
       "      <td>2023-06-14 14:57:17</td>\n",
       "    </tr>\n",
       "    <tr>\n",
       "      <th>4</th>\n",
       "      <td>341.0</td>\n",
       "      <td>SPPNet</td>\n",
       "      <td>Vision</td>\n",
       "      <td>Image classification</td>\n",
       "      <td>Microsoft</td>\n",
       "      <td>Industry - Academia Collaboration</td>\n",
       "      <td>Kaiming He, Xiangyu Zhang, Shaoqing Ren, Jian Sun</td>\n",
       "      <td>2014-06-18 00:00:00</td>\n",
       "      <td>Spatial Pyramid Pooling in Deep Convolutional ...</td>\n",
       "      <td>https://arxiv.org/abs/1406.4729</td>\n",
       "      <td>...</td>\n",
       "      <td>\"All networks in this paper can be trained on ...</td>\n",
       "      <td>NVIDIA GeForce GTX TITAN</td>\n",
       "      <td>NaN</td>\n",
       "      <td>65.07</td>\n",
       "      <td>NaN</td>\n",
       "      <td>NaN</td>\n",
       "      <td>Industry</td>\n",
       "      <td>NaN</td>\n",
       "      <td>NaN</td>\n",
       "      <td>2023-08-01 10:30:07</td>\n",
       "    </tr>\n",
       "    <tr>\n",
       "      <th>...</th>\n",
       "      <td>...</td>\n",
       "      <td>...</td>\n",
       "      <td>...</td>\n",
       "      <td>...</td>\n",
       "      <td>...</td>\n",
       "      <td>...</td>\n",
       "      <td>...</td>\n",
       "      <td>...</td>\n",
       "      <td>...</td>\n",
       "      <td>...</td>\n",
       "      <td>...</td>\n",
       "      <td>...</td>\n",
       "      <td>...</td>\n",
       "      <td>...</td>\n",
       "      <td>...</td>\n",
       "      <td>...</td>\n",
       "      <td>...</td>\n",
       "      <td>...</td>\n",
       "      <td>...</td>\n",
       "      <td>...</td>\n",
       "      <td>...</td>\n",
       "    </tr>\n",
       "    <tr>\n",
       "      <th>104</th>\n",
       "      <td>NaN</td>\n",
       "      <td>NaN</td>\n",
       "      <td>NaN</td>\n",
       "      <td>NaN</td>\n",
       "      <td>Google</td>\n",
       "      <td>NaN</td>\n",
       "      <td>NaN</td>\n",
       "      <td>2023-08-03</td>\n",
       "      <td>NaN</td>\n",
       "      <td>NaN</td>\n",
       "      <td>...</td>\n",
       "      <td>NaN</td>\n",
       "      <td>NaN</td>\n",
       "      <td>NaN</td>\n",
       "      <td>NaN</td>\n",
       "      <td>NaN</td>\n",
       "      <td>NaN</td>\n",
       "      <td>NaN</td>\n",
       "      <td>NaN</td>\n",
       "      <td>NaN</td>\n",
       "      <td>NaN</td>\n",
       "    </tr>\n",
       "    <tr>\n",
       "      <th>105</th>\n",
       "      <td>NaN</td>\n",
       "      <td>NaN</td>\n",
       "      <td>NaN</td>\n",
       "      <td>NaN</td>\n",
       "      <td>Meta</td>\n",
       "      <td>NaN</td>\n",
       "      <td>NaN</td>\n",
       "      <td>2023-08-03</td>\n",
       "      <td>NaN</td>\n",
       "      <td>NaN</td>\n",
       "      <td>...</td>\n",
       "      <td>NaN</td>\n",
       "      <td>NaN</td>\n",
       "      <td>NaN</td>\n",
       "      <td>NaN</td>\n",
       "      <td>NaN</td>\n",
       "      <td>NaN</td>\n",
       "      <td>NaN</td>\n",
       "      <td>NaN</td>\n",
       "      <td>NaN</td>\n",
       "      <td>NaN</td>\n",
       "    </tr>\n",
       "    <tr>\n",
       "      <th>106</th>\n",
       "      <td>NaN</td>\n",
       "      <td>NaN</td>\n",
       "      <td>NaN</td>\n",
       "      <td>NaN</td>\n",
       "      <td>Microsoft</td>\n",
       "      <td>NaN</td>\n",
       "      <td>NaN</td>\n",
       "      <td>2023-08-03</td>\n",
       "      <td>NaN</td>\n",
       "      <td>NaN</td>\n",
       "      <td>...</td>\n",
       "      <td>NaN</td>\n",
       "      <td>NaN</td>\n",
       "      <td>NaN</td>\n",
       "      <td>NaN</td>\n",
       "      <td>NaN</td>\n",
       "      <td>NaN</td>\n",
       "      <td>NaN</td>\n",
       "      <td>NaN</td>\n",
       "      <td>NaN</td>\n",
       "      <td>NaN</td>\n",
       "    </tr>\n",
       "    <tr>\n",
       "      <th>107</th>\n",
       "      <td>NaN</td>\n",
       "      <td>NaN</td>\n",
       "      <td>NaN</td>\n",
       "      <td>NaN</td>\n",
       "      <td>NVIDIA</td>\n",
       "      <td>NaN</td>\n",
       "      <td>NaN</td>\n",
       "      <td>2023-08-03</td>\n",
       "      <td>NaN</td>\n",
       "      <td>NaN</td>\n",
       "      <td>...</td>\n",
       "      <td>NaN</td>\n",
       "      <td>NaN</td>\n",
       "      <td>NaN</td>\n",
       "      <td>NaN</td>\n",
       "      <td>NaN</td>\n",
       "      <td>NaN</td>\n",
       "      <td>NaN</td>\n",
       "      <td>NaN</td>\n",
       "      <td>NaN</td>\n",
       "      <td>NaN</td>\n",
       "    </tr>\n",
       "    <tr>\n",
       "      <th>108</th>\n",
       "      <td>NaN</td>\n",
       "      <td>NaN</td>\n",
       "      <td>NaN</td>\n",
       "      <td>NaN</td>\n",
       "      <td>OpenAI</td>\n",
       "      <td>NaN</td>\n",
       "      <td>NaN</td>\n",
       "      <td>2023-08-03</td>\n",
       "      <td>NaN</td>\n",
       "      <td>NaN</td>\n",
       "      <td>...</td>\n",
       "      <td>NaN</td>\n",
       "      <td>NaN</td>\n",
       "      <td>NaN</td>\n",
       "      <td>NaN</td>\n",
       "      <td>NaN</td>\n",
       "      <td>NaN</td>\n",
       "      <td>NaN</td>\n",
       "      <td>NaN</td>\n",
       "      <td>NaN</td>\n",
       "      <td>NaN</td>\n",
       "    </tr>\n",
       "  </tbody>\n",
       "</table>\n",
       "<p>109 rows × 34 columns</p>\n",
       "</div>"
      ],
      "text/plain": [
       "     index                                   System    Domain  \\\n",
       "0    374.0  Unsupervised High-level Feature Learner    Vision   \n",
       "1    359.0                         Word2Vec (large)  Language   \n",
       "2    355.0                                   TransE     Other   \n",
       "3    352.0                                      DQN     Games   \n",
       "4    341.0                                   SPPNet    Vision   \n",
       "..     ...                                      ...       ...   \n",
       "104    NaN                                      NaN       NaN   \n",
       "105    NaN                                      NaN       NaN   \n",
       "106    NaN                                      NaN       NaN   \n",
       "107    NaN                                      NaN       NaN   \n",
       "108    NaN                                      NaN       NaN   \n",
       "\n",
       "                     Task Organization        Organization Categorization  \\\n",
       "0    Image classification       Google                           Industry   \n",
       "1      Semantic embedding       Google                           Industry   \n",
       "2        Entity embedding       Google  Industry - Academia Collaboration   \n",
       "3                   Atari     DeepMind                           Industry   \n",
       "4    Image classification    Microsoft  Industry - Academia Collaboration   \n",
       "..                    ...          ...                                ...   \n",
       "104                   NaN       Google                                NaN   \n",
       "105                   NaN         Meta                                NaN   \n",
       "106                   NaN    Microsoft                                NaN   \n",
       "107                   NaN       NVIDIA                                NaN   \n",
       "108                   NaN       OpenAI                                NaN   \n",
       "\n",
       "                                               Authors     Publication date  \\\n",
       "0    Quoc V. Le, Marc'Aurelio Ranzato, Rajat Monga,...  2012-07-12 00:00:00   \n",
       "1           T Mikolov, I Sutskever, K Chen, GS Corrado  2013-10-16 00:00:00   \n",
       "2    Antoine Bordes, Nicolas Usunier, Alberto Garci...  2013-12-05 00:00:00   \n",
       "3            V Mnih, K Kavukcuoglu, D Silver, A Graves  2013-12-19 00:00:00   \n",
       "4    Kaiming He, Xiangyu Zhang, Shaoqing Ren, Jian Sun  2014-06-18 00:00:00   \n",
       "..                                                 ...                  ...   \n",
       "104                                                NaN           2023-08-03   \n",
       "105                                                NaN           2023-08-03   \n",
       "106                                                NaN           2023-08-03   \n",
       "107                                                NaN           2023-08-03   \n",
       "108                                                NaN           2023-08-03   \n",
       "\n",
       "                                             Reference  \\\n",
       "0    Building High-level Features Using Large Scale...   \n",
       "1    Distributed Representations of Words and Phras...   \n",
       "2    Translating Embeddings for Modeling Multi- rel...   \n",
       "3       Playing Atari with Deep Reinforcement Learning   \n",
       "4    Spatial Pyramid Pooling in Deep Convolutional ...   \n",
       "..                                                 ...   \n",
       "104                                                NaN   \n",
       "105                                                NaN   \n",
       "106                                                NaN   \n",
       "107                                                NaN   \n",
       "108                                                NaN   \n",
       "\n",
       "                                                  Link  ...  \\\n",
       "0                  https://arxiv.org/pdf/1112.6209.pdf  ...   \n",
       "1                      https://arxiv.org/abs/1310.4546  ...   \n",
       "2    https://papers.nips.cc/paper/2013/hash/1cecc7a...  ...   \n",
       "3                      https://arxiv.org/abs/1312.5602  ...   \n",
       "4                      https://arxiv.org/abs/1406.4729  ...   \n",
       "..                                                 ...  ...   \n",
       "104                                                NaN  ...   \n",
       "105                                                NaN  ...   \n",
       "106                                                NaN  ...   \n",
       "107                                                NaN  ...   \n",
       "108                                                NaN  ...   \n",
       "\n",
       "                                   Training time notes  \\\n",
       "0    \"We train this network using model parallelism...   \n",
       "1                                                  NaN   \n",
       "2                                                  NaN   \n",
       "3                                                  NaN   \n",
       "4    \"All networks in this paper can be trained on ...   \n",
       "..                                                 ...   \n",
       "104                                                NaN   \n",
       "105                                                NaN   \n",
       "106                                                NaN   \n",
       "107                                                NaN   \n",
       "108                                                NaN   \n",
       "\n",
       "            Training hardware      Approach  Training compute cost (2020 USD)  \\\n",
       "0                         NaN  Unsupervised                               NaN   \n",
       "1                         NaN           NaN                              0.55   \n",
       "2                         NaN           NaN                             17.58   \n",
       "3                         NaN           NaN                              0.04   \n",
       "4    NVIDIA GeForce GTX TITAN           NaN                             65.07   \n",
       "..                        ...           ...                               ...   \n",
       "104                       NaN           NaN                               NaN   \n",
       "105                       NaN           NaN                               NaN   \n",
       "106                       NaN           NaN                               NaN   \n",
       "107                       NaN           NaN                               NaN   \n",
       "108                       NaN           NaN                               NaN   \n",
       "\n",
       "        Compute cost notes  Self-supervised training  \\\n",
       "0    Hardware not reported                       NaN   \n",
       "1                      NaN                       NaN   \n",
       "2                      NaN                       NaN   \n",
       "3                      NaN                       NaN   \n",
       "4                      NaN                       NaN   \n",
       "..                     ...                       ...   \n",
       "104                    NaN                       NaN   \n",
       "105                    NaN                       NaN   \n",
       "106                    NaN                       NaN   \n",
       "107                    NaN                       NaN   \n",
       "108                    NaN                       NaN   \n",
       "\n",
       "    Compute Sponsor Categorization Epistemic status  \\\n",
       "0                         Industry           Likely   \n",
       "1                         Industry              NaN   \n",
       "2                         Industry              NaN   \n",
       "3                         Industry              NaN   \n",
       "4                         Industry              NaN   \n",
       "..                             ...              ...   \n",
       "104                            NaN              NaN   \n",
       "105                            NaN              NaN   \n",
       "106                            NaN              NaN   \n",
       "107                            NaN              NaN   \n",
       "108                            NaN              NaN   \n",
       "\n",
       "                                              Abstract        Last Modified  \n",
       "0    We consider the problem of building high-level...  2023-06-15 15:50:10  \n",
       "1                                                  NaN  2023-06-14 14:54:39  \n",
       "2                                                  NaN  2023-05-29 20:51:04  \n",
       "3                                                  NaN  2023-06-14 14:57:17  \n",
       "4                                                  NaN  2023-08-01 10:30:07  \n",
       "..                                                 ...                  ...  \n",
       "104                                                NaN                  NaN  \n",
       "105                                                NaN                  NaN  \n",
       "106                                                NaN                  NaN  \n",
       "107                                                NaN                  NaN  \n",
       "108                                                NaN                  NaN  \n",
       "\n",
       "[109 rows x 34 columns]"
      ]
     },
     "execution_count": 181,
     "metadata": {},
     "output_type": "execute_result"
    }
   ],
   "source": [
    "company_max_compute_df"
   ]
  },
  {
   "cell_type": "code",
   "execution_count": 182,
   "metadata": {},
   "outputs": [
    {
     "data": {
      "text/html": [
       "<div>\n",
       "<style scoped>\n",
       "    .dataframe tbody tr th:only-of-type {\n",
       "        vertical-align: middle;\n",
       "    }\n",
       "\n",
       "    .dataframe tbody tr th {\n",
       "        vertical-align: top;\n",
       "    }\n",
       "\n",
       "    .dataframe thead th {\n",
       "        text-align: right;\n",
       "    }\n",
       "</style>\n",
       "<table border=\"1\" class=\"dataframe\">\n",
       "  <thead>\n",
       "    <tr style=\"text-align: right;\">\n",
       "      <th></th>\n",
       "      <th>System</th>\n",
       "      <th>Organization</th>\n",
       "      <th>Publication date</th>\n",
       "      <th>Training compute (FLOP)</th>\n",
       "    </tr>\n",
       "  </thead>\n",
       "  <tbody>\n",
       "    <tr>\n",
       "      <th>0</th>\n",
       "      <td>Unsupervised High-level Feature Learner</td>\n",
       "      <td>Google</td>\n",
       "      <td>2012-07-12 00:00:00</td>\n",
       "      <td>6.000000e+17</td>\n",
       "    </tr>\n",
       "    <tr>\n",
       "      <th>1</th>\n",
       "      <td>Word2Vec (large)</td>\n",
       "      <td>Google</td>\n",
       "      <td>2013-10-16 00:00:00</td>\n",
       "      <td>6.000000e+17</td>\n",
       "    </tr>\n",
       "    <tr>\n",
       "      <th>2</th>\n",
       "      <td>TransE</td>\n",
       "      <td>Google</td>\n",
       "      <td>2013-12-05 00:00:00</td>\n",
       "      <td>1.340000e+18</td>\n",
       "    </tr>\n",
       "    <tr>\n",
       "      <th>3</th>\n",
       "      <td>DQN</td>\n",
       "      <td>DeepMind</td>\n",
       "      <td>2013-12-19 00:00:00</td>\n",
       "      <td>2.300000e+15</td>\n",
       "    </tr>\n",
       "    <tr>\n",
       "      <th>4</th>\n",
       "      <td>SPPNet</td>\n",
       "      <td>Microsoft</td>\n",
       "      <td>2014-06-18 00:00:00</td>\n",
       "      <td>3.410000e+18</td>\n",
       "    </tr>\n",
       "    <tr>\n",
       "      <th>...</th>\n",
       "      <td>...</td>\n",
       "      <td>...</td>\n",
       "      <td>...</td>\n",
       "      <td>...</td>\n",
       "    </tr>\n",
       "    <tr>\n",
       "      <th>104</th>\n",
       "      <td>NaN</td>\n",
       "      <td>Google</td>\n",
       "      <td>2023-08-03</td>\n",
       "      <td>7.340000e+24</td>\n",
       "    </tr>\n",
       "    <tr>\n",
       "      <th>105</th>\n",
       "      <td>NaN</td>\n",
       "      <td>Meta</td>\n",
       "      <td>2023-08-03</td>\n",
       "      <td>5.500000e+23</td>\n",
       "    </tr>\n",
       "    <tr>\n",
       "      <th>106</th>\n",
       "      <td>NaN</td>\n",
       "      <td>Microsoft</td>\n",
       "      <td>2023-08-03</td>\n",
       "      <td>1.350000e+24</td>\n",
       "    </tr>\n",
       "    <tr>\n",
       "      <th>107</th>\n",
       "      <td>NaN</td>\n",
       "      <td>NVIDIA</td>\n",
       "      <td>2023-08-03</td>\n",
       "      <td>1.350000e+24</td>\n",
       "    </tr>\n",
       "    <tr>\n",
       "      <th>108</th>\n",
       "      <td>NaN</td>\n",
       "      <td>OpenAI</td>\n",
       "      <td>2023-08-03</td>\n",
       "      <td>2.100000e+25</td>\n",
       "    </tr>\n",
       "  </tbody>\n",
       "</table>\n",
       "<p>109 rows × 4 columns</p>\n",
       "</div>"
      ],
      "text/plain": [
       "                                      System Organization  \\\n",
       "0    Unsupervised High-level Feature Learner       Google   \n",
       "1                           Word2Vec (large)       Google   \n",
       "2                                     TransE       Google   \n",
       "3                                        DQN     DeepMind   \n",
       "4                                     SPPNet    Microsoft   \n",
       "..                                       ...          ...   \n",
       "104                                      NaN       Google   \n",
       "105                                      NaN         Meta   \n",
       "106                                      NaN    Microsoft   \n",
       "107                                      NaN       NVIDIA   \n",
       "108                                      NaN       OpenAI   \n",
       "\n",
       "        Publication date  Training compute (FLOP)  \n",
       "0    2012-07-12 00:00:00             6.000000e+17  \n",
       "1    2013-10-16 00:00:00             6.000000e+17  \n",
       "2    2013-12-05 00:00:00             1.340000e+18  \n",
       "3    2013-12-19 00:00:00             2.300000e+15  \n",
       "4    2014-06-18 00:00:00             3.410000e+18  \n",
       "..                   ...                      ...  \n",
       "104           2023-08-03             7.340000e+24  \n",
       "105           2023-08-03             5.500000e+23  \n",
       "106           2023-08-03             1.350000e+24  \n",
       "107           2023-08-03             1.350000e+24  \n",
       "108           2023-08-03             2.100000e+25  \n",
       "\n",
       "[109 rows x 4 columns]"
      ]
     },
     "execution_count": 182,
     "metadata": {},
     "output_type": "execute_result"
    }
   ],
   "source": [
    "company_max_compute_df[cols_of_interest]"
   ]
  },
  {
   "cell_type": "code",
   "execution_count": 183,
   "metadata": {},
   "outputs": [
    {
     "data": {
      "text/html": [
       "<div>\n",
       "<style scoped>\n",
       "    .dataframe tbody tr th:only-of-type {\n",
       "        vertical-align: middle;\n",
       "    }\n",
       "\n",
       "    .dataframe tbody tr th {\n",
       "        vertical-align: top;\n",
       "    }\n",
       "\n",
       "    .dataframe thead th {\n",
       "        text-align: right;\n",
       "    }\n",
       "</style>\n",
       "<table border=\"1\" class=\"dataframe\">\n",
       "  <thead>\n",
       "    <tr style=\"text-align: right;\">\n",
       "      <th></th>\n",
       "      <th>System</th>\n",
       "      <th>Organization</th>\n",
       "      <th>Publication date</th>\n",
       "      <th>Training compute (FLOP)</th>\n",
       "    </tr>\n",
       "  </thead>\n",
       "  <tbody>\n",
       "    <tr>\n",
       "      <th>4</th>\n",
       "      <td>SPPNet</td>\n",
       "      <td>Microsoft</td>\n",
       "      <td>2014-06-18</td>\n",
       "      <td>3.410000e+18</td>\n",
       "    </tr>\n",
       "    <tr>\n",
       "      <th>5</th>\n",
       "      <td>Seq2Seq LSTM</td>\n",
       "      <td>Google</td>\n",
       "      <td>2014-09-10</td>\n",
       "      <td>7.300000e+18</td>\n",
       "    </tr>\n",
       "    <tr>\n",
       "      <th>6</th>\n",
       "      <td>MSRA (C, PReLU)</td>\n",
       "      <td>Microsoft</td>\n",
       "      <td>2015-02-06</td>\n",
       "      <td>2.400000e+19</td>\n",
       "    </tr>\n",
       "    <tr>\n",
       "      <th>8</th>\n",
       "      <td>AlphaGo Fan</td>\n",
       "      <td>DeepMind</td>\n",
       "      <td>2015-10-01</td>\n",
       "      <td>3.800000e+20</td>\n",
       "    </tr>\n",
       "    <tr>\n",
       "      <th>12</th>\n",
       "      <td>GNMT</td>\n",
       "      <td>Google</td>\n",
       "      <td>2016-09-26</td>\n",
       "      <td>6.900000e+21</td>\n",
       "    </tr>\n",
       "    <tr>\n",
       "      <th>15</th>\n",
       "      <td>AlphaGo Master</td>\n",
       "      <td>DeepMind</td>\n",
       "      <td>2017-01-01</td>\n",
       "      <td>1.500000e+23</td>\n",
       "    </tr>\n",
       "    <tr>\n",
       "      <th>78</th>\n",
       "      <td>Megatron-Turing NLG 530B</td>\n",
       "      <td>Microsoft</td>\n",
       "      <td>2021-10-11</td>\n",
       "      <td>1.350000e+24</td>\n",
       "    </tr>\n",
       "    <tr>\n",
       "      <th>87</th>\n",
       "      <td>PaLM (540B)</td>\n",
       "      <td>Google</td>\n",
       "      <td>2022-04-04</td>\n",
       "      <td>2.530000e+24</td>\n",
       "    </tr>\n",
       "    <tr>\n",
       "      <th>98</th>\n",
       "      <td>GPT-4</td>\n",
       "      <td>OpenAI</td>\n",
       "      <td>2023-03-15</td>\n",
       "      <td>2.100000e+25</td>\n",
       "    </tr>\n",
       "  </tbody>\n",
       "</table>\n",
       "</div>"
      ],
      "text/plain": [
       "                      System Organization Publication date  \\\n",
       "4                     SPPNet    Microsoft       2014-06-18   \n",
       "5               Seq2Seq LSTM       Google       2014-09-10   \n",
       "6            MSRA (C, PReLU)    Microsoft       2015-02-06   \n",
       "8                AlphaGo Fan     DeepMind       2015-10-01   \n",
       "12                      GNMT       Google       2016-09-26   \n",
       "15            AlphaGo Master     DeepMind       2017-01-01   \n",
       "78  Megatron-Turing NLG 530B    Microsoft       2021-10-11   \n",
       "87               PaLM (540B)       Google       2022-04-04   \n",
       "98                     GPT-4       OpenAI       2023-03-15   \n",
       "\n",
       "    Training compute (FLOP)  \n",
       "4              3.410000e+18  \n",
       "5              7.300000e+18  \n",
       "6              2.400000e+19  \n",
       "8              3.800000e+20  \n",
       "12             6.900000e+21  \n",
       "15             1.500000e+23  \n",
       "78             1.350000e+24  \n",
       "87             2.530000e+24  \n",
       "98             2.100000e+25  "
      ]
     },
     "execution_count": 183,
     "metadata": {},
     "output_type": "execute_result"
    }
   ],
   "source": [
    "current_max = 0\n",
    "current_max_org = \"Google\"\n",
    "global_max_rows = []\n",
    "for i, row in company_max_compute_df.iterrows():\n",
    "    if row[\"Training compute (FLOP)\"] > current_max:\n",
    "        current_max = row[\"Training compute (FLOP)\"]\n",
    "        if row[\"Organization\"] != current_max_org:\n",
    "            current_max_org = row[\"Organization\"]\n",
    "            global_max_rows.append(row)\n",
    "global_max_df = pd.DataFrame(global_max_rows)\n",
    "global_max_df[cols_of_interest]"
   ]
  },
  {
   "cell_type": "code",
   "execution_count": 234,
   "metadata": {},
   "outputs": [
    {
     "data": {
      "application/vnd.plotly.v1+json": {
       "config": {
        "plotlyServerURL": "https://plot.ly"
       },
       "data": [
        {
         "customdata": [
          [
           "OpenAI TI7 DOTA 1v1"
          ],
          [
           "GPT"
          ],
          [
           "GPT-2"
          ],
          [
           "Hide and Seek"
          ],
          [
           "Rubik's cube"
          ],
          [
           "OpenAI Five Rerun"
          ],
          [
           "OpenAI Five"
          ],
          [
           "GPT-3 175B (davinci)"
          ],
          [
           "iGPT-XL"
          ],
          [
           "iGPT-L"
          ],
          [
           "DALL-E"
          ],
          [
           "CLIP (ViT L/14@336px)"
          ],
          [
           "Whisper"
          ],
          [
           "GPT-4"
          ],
          [
           null
          ]
         ],
         "hovertemplate": "Organization=OpenAI<br>Publication date=%{x}<br>Largest published training run to date (FLOP)=%{y}<br>System=%{customdata[0]}<extra></extra>",
         "legendgroup": "OpenAI",
         "line": {
          "color": "#636efa",
          "dash": "solid",
          "shape": "hv"
         },
         "marker": {
          "symbol": "circle"
         },
         "mode": "lines",
         "name": "OpenAI",
         "orientation": "v",
         "showlegend": true,
         "type": "scatter",
         "x": [
          "2017-08-11T00:00:00",
          "2018-06-01T00:00:00",
          "2019-02-14T00:00:00",
          "2019-09-17T00:00:00",
          "2019-10-15T00:00:00",
          "2019-12-13T00:00:00",
          "2019-12-13T00:00:00",
          "2020-05-28T00:00:00",
          "2020-06-17T00:00:00",
          "2020-06-17T00:00:00",
          "2021-01-05T00:00:00",
          "2021-01-05T00:00:00",
          "2022-09-21T00:00:00",
          "2023-03-15T00:00:00",
          "2023-08-03T00:00:00"
         ],
         "xaxis": "x",
         "y": [
          605000000000000000000,
          605000000000000000000,
          1.49e+21,
          1.49e+21,
          1.49e+21,
          1.3e+22,
          6.7e+22,
          3.14e+23,
          3.14e+23,
          3.14e+23,
          3.14e+23,
          3.14e+23,
          3.14e+23,
          2.1e+25,
          2.1e+25
         ],
         "yaxis": "y"
        },
        {
         "customdata": [
          [
           "Unsupervised High-level Feature Learner"
          ],
          [
           "Word2Vec (large)"
          ],
          [
           "TransE"
          ],
          [
           "Seq2Seq LSTM"
          ],
          [
           "GoogLeNet / InceptionV1"
          ],
          [
           "GNMT"
          ],
          [
           "Xception"
          ],
          [
           "NASv3 (CIFAR-10)"
          ],
          [
           "MoE"
          ],
          [
           "Transformer"
          ],
          [
           "Transformer"
          ],
          [
           "JFT"
          ],
          [
           "PNASNet-5"
          ],
          [
           "AmoebaNet-A (F=448)"
          ],
          [
           "BERT-Large"
          ],
          [
           "Hanabi 4 player"
          ],
          [
           "MnasNet-A3"
          ],
          [
           "MnasNet-A1 + SSDLite"
          ],
          [
           "T5-11B"
          ],
          [
           "T5-3B"
          ],
          [
           "Meena"
          ],
          [
           "ELECTRA"
          ],
          [
           "GShard (dense)"
          ],
          [
           "GShard (600B)"
          ],
          [
           "ViT-H/14"
          ],
          [
           "Switch"
          ],
          [
           "Meta Pseudo Labels"
          ],
          [
           "FLAN"
          ],
          [
           "ProtT5-XXL"
          ],
          [
           "ViT-G/14"
          ],
          [
           "ALIGN"
          ],
          [
           "EfficientNetV2"
          ],
          [
           "Primer"
          ],
          [
           "LaMDA"
          ],
          [
           "PaLM (540B)"
          ],
          [
           "LiMoE"
          ],
          [
           "Parti"
          ],
          [
           "Minerva (540B)"
          ],
          [
           "PaLM 2"
          ],
          [
           null
          ]
         ],
         "hovertemplate": "Organization=Google<br>Publication date=%{x}<br>Largest published training run to date (FLOP)=%{y}<br>System=%{customdata[0]}<extra></extra>",
         "legendgroup": "Google",
         "line": {
          "color": "#EF553B",
          "dash": "solid",
          "shape": "hv"
         },
         "marker": {
          "symbol": "circle"
         },
         "mode": "lines",
         "name": "Google",
         "orientation": "v",
         "showlegend": true,
         "type": "scatter",
         "x": [
          "2012-07-12T00:00:00",
          "2013-10-16T00:00:00",
          "2013-12-05T00:00:00",
          "2014-09-10T00:00:00",
          "2015-06-07T00:00:00",
          "2016-09-26T00:00:00",
          "2016-10-07T00:00:00",
          "2016-11-05T00:00:00",
          "2017-01-23T00:00:00",
          "2017-06-12T00:00:00",
          "2017-06-12T00:00:00",
          "2017-08-04T00:00:00",
          "2017-12-02T00:00:00",
          "2018-02-05T00:00:00",
          "2018-10-11T00:00:00",
          "2019-02-01T00:00:00",
          "2019-05-29T00:00:00",
          "2019-05-29T00:00:00",
          "2019-10-23T00:00:00",
          "2019-10-23T00:00:00",
          "2020-01-28T00:00:00",
          "2020-03-23T00:00:00",
          "2020-06-30T00:00:00",
          "2020-06-30T00:00:00",
          "2020-09-28T00:00:00",
          "2021-01-11T00:00:00",
          "2021-03-01T00:00:00",
          "2021-03-09T00:00:00",
          "2021-05-04T00:00:00",
          "2021-06-08T00:00:00",
          "2021-06-11T00:00:00",
          "2021-06-23T00:00:00",
          "2022-01-24T00:00:00",
          "2022-02-10T00:00:00",
          "2022-04-04T00:00:00",
          "2022-06-06T00:00:00",
          "2022-06-22T00:00:00",
          "2022-06-29T00:00:00",
          "2023-05-10T00:00:00",
          "2023-08-03T00:00:00"
         ],
         "xaxis": "x",
         "y": [
          600000000000000000,
          600000000000000000,
          1340000000000000000,
          7300000000000000000,
          7300000000000000000,
          6.9e+21,
          6.9e+21,
          6.9e+21,
          6.9e+21,
          6.9e+21,
          6.9e+21,
          6.9e+21,
          6.9e+21,
          6.9e+21,
          6.9e+21,
          6.9e+21,
          6.9e+21,
          6.9e+21,
          4.05e+22,
          4.05e+22,
          1.12e+23,
          1.12e+23,
          1.12e+23,
          1.12e+23,
          1.12e+23,
          1.12e+23,
          2.12e+23,
          2.12e+23,
          2.12e+23,
          2.12e+23,
          2.15e+23,
          2.15e+23,
          2.15e+23,
          3.55e+23,
          2.53e+24,
          2.53e+24,
          2.53e+24,
          2.74e+24,
          7.34e+24,
          7.34e+24
         ],
         "yaxis": "y"
        },
        {
         "customdata": [
          [
           "SPPNet"
          ],
          [
           "MSRA (C, PReLU)"
          ],
          [
           "ResNet-152 (ImageNet)"
          ],
          [
           "Turing NLG"
          ],
          [
           "DeBERTa"
          ],
          [
           "Megatron-Turing NLG 530B"
          ],
          [
           "NÜWA"
          ],
          [
           null
          ]
         ],
         "hovertemplate": "Organization=Microsoft<br>Publication date=%{x}<br>Largest published training run to date (FLOP)=%{y}<br>System=%{customdata[0]}<extra></extra>",
         "legendgroup": "Microsoft",
         "line": {
          "color": "#00cc96",
          "dash": "solid",
          "shape": "hv"
         },
         "marker": {
          "symbol": "circle"
         },
         "mode": "lines",
         "name": "Microsoft",
         "orientation": "v",
         "showlegend": true,
         "type": "scatter",
         "x": [
          "2014-06-18T00:00:00",
          "2015-02-06T00:00:00",
          "2015-12-10T00:00:00",
          "2020-02-13T00:00:00",
          "2021-06-10T00:00:00",
          "2021-10-11T00:00:00",
          "2021-11-24T00:00:00",
          "2023-08-03T00:00:00"
         ],
         "xaxis": "x",
         "y": [
          3410000000000000000,
          24000000000000000000,
          24000000000000000000,
          1.57e+22,
          1.57e+22,
          1.35e+24,
          1.35e+24,
          1.35e+24
         ],
         "yaxis": "y"
        },
        {
         "customdata": [
          [
           "DQN"
          ],
          [
           "AlphaGo Fan"
          ],
          [
           "AlphaGo Lee"
          ],
          [
           "AlphaGo Master"
          ],
          [
           "AlphaGo Zero"
          ],
          [
           "AlphaZero"
          ],
          [
           "IMPALA"
          ],
          [
           "Population-based DRL"
          ],
          [
           "BigGAN-deep 512x512"
          ],
          [
           "Hanabi 4 player"
          ],
          [
           "FTW"
          ],
          [
           "AlphaStar"
          ],
          [
           "MuZero"
          ],
          [
           "AlphaFold"
          ],
          [
           "GOAT"
          ],
          [
           "Gopher"
          ],
          [
           "AlphaCode"
          ],
          [
           "Chinchilla"
          ],
          [
           "Gato"
          ],
          [
           null
          ]
         ],
         "hovertemplate": "Organization=DeepMind<br>Publication date=%{x}<br>Largest published training run to date (FLOP)=%{y}<br>System=%{customdata[0]}<extra></extra>",
         "legendgroup": "DeepMind",
         "line": {
          "color": "#ab63fa",
          "dash": "solid",
          "shape": "hv"
         },
         "marker": {
          "symbol": "circle"
         },
         "mode": "lines",
         "name": "DeepMind",
         "orientation": "v",
         "showlegend": true,
         "type": "scatter",
         "x": [
          "2013-12-19T00:00:00",
          "2015-10-01T00:00:00",
          "2016-01-27T00:00:00",
          "2017-01-01T00:00:00",
          "2017-10-18T00:00:00",
          "2017-12-05T00:00:00",
          "2018-02-05T00:00:00",
          "2018-07-03T00:00:00",
          "2018-09-28T00:00:00",
          "2019-02-01T00:00:00",
          "2019-05-31T00:00:00",
          "2019-10-30T00:00:00",
          "2019-11-19T00:00:00",
          "2020-01-15T00:00:00",
          "2021-07-27T00:00:00",
          "2021-12-08T00:00:00",
          "2022-02-02T00:00:00",
          "2022-03-29T00:00:00",
          "2022-05-12T00:00:00",
          "2023-08-03T00:00:00"
         ],
         "xaxis": "x",
         "y": [
          2300000000000000,
          380000000000000000000,
          1.9e+21,
          1.5e+23,
          3.41e+23,
          3.41e+23,
          3.41e+23,
          3.41e+23,
          3.41e+23,
          3.41e+23,
          3.41e+23,
          3.41e+23,
          3.41e+23,
          3.41e+23,
          3.41e+23,
          6.31e+23,
          6.31e+23,
          6.31e+23,
          6.31e+23,
          6.31e+23
         ],
         "yaxis": "y"
        },
        {
         "customdata": [
          [
           "ResNeXt-101 32x48d"
          ],
          [
           "DLRM-2020"
          ],
          [
           "Pluribus"
          ],
          [
           "DLRM-2021"
          ],
          [
           "wave2vec 2.0 LARGE"
          ],
          [
           "HuBERT"
          ],
          [
           "SEER"
          ],
          [
           "DLRM-2022"
          ],
          [
           "Sparse all-MLP"
          ],
          [
           "OPT-175B"
          ],
          [
           "NLLB"
          ],
          [
           "LLaMA (65B)"
          ],
          [
           null
          ]
         ],
         "hovertemplate": "Organization=Meta<br>Publication date=%{x}<br>Largest published training run to date (FLOP)=%{y}<br>System=%{customdata[0]}<extra></extra>",
         "legendgroup": "Meta",
         "line": {
          "color": "#FFA15A",
          "dash": "solid",
          "shape": "hv"
         },
         "marker": {
          "symbol": "circle"
         },
         "mode": "lines",
         "name": "Meta",
         "orientation": "v",
         "showlegend": true,
         "type": "scatter",
         "x": [
          "2018-05-02T00:00:00",
          "2019-05-31T00:00:00",
          "2019-07-11T00:00:00",
          "2020-07-01T00:00:00",
          "2020-10-22T00:00:00",
          "2021-07-27T00:00:00",
          "2021-07-29T00:00:00",
          "2021-09-15T00:00:00",
          "2022-04-14T00:00:00",
          "2022-05-02T00:00:00",
          "2022-07-06T00:00:00",
          "2023-02-24T00:00:00",
          "2023-08-03T00:00:00"
         ],
         "xaxis": "x",
         "y": [
          220000000000000000,
          4000000000000000000,
          4000000000000000000,
          300000000000000000000,
          1.9e+21,
          5.54e+21,
          5.54e+21,
          5.54e+21,
          5.54e+21,
          4.3e+23,
          4.3e+23,
          5.5e+23,
          5.5e+23
         ],
         "yaxis": "y"
        },
        {
         "line": {
          "color": "black"
         },
         "mode": "markers+text",
         "name": "Changes in leader",
         "text": [
          "SPPNet",
          "Seq2Seq LSTM",
          "MSRA (C, PReLU)",
          "AlphaGo Fan",
          "GNMT",
          "AlphaGo Master",
          "Megatron-Turing NLG 530B",
          "PaLM (540B)",
          "GPT-4"
         ],
         "textposition": "top left",
         "type": "scatter",
         "x": [
          "2014-06-18T00:00:00",
          "2014-09-10T00:00:00",
          "2015-02-06T00:00:00",
          "2015-10-01T00:00:00",
          "2016-09-26T00:00:00",
          "2017-01-01T00:00:00",
          "2021-10-11T00:00:00",
          "2022-04-04T00:00:00",
          "2023-03-15T00:00:00"
         ],
         "y": [
          3410000000000000000,
          7300000000000000000,
          24000000000000000000,
          380000000000000000000,
          6.9e+21,
          1.5e+23,
          1.35e+24,
          2.53e+24,
          2.1e+25
         ]
        },
        {
         "line": {
          "color": "black"
         },
         "marker": {
          "symbol": "x"
         },
         "mode": "markers+text",
         "name": "Other notable systems",
         "text": [
          "GPT-3 (175B)"
         ],
         "textposition": "top left",
         "type": "scatter",
         "x": [
          "2020-05-28T00:00:00"
         ],
         "y": [
          3.14e+23
         ]
        }
       ],
       "layout": {
        "autosize": false,
        "font": {
         "size": 10
        },
        "height": 415,
        "legend": {
         "orientation": "h",
         "title": {
          "text": ""
         },
         "tracegroupgap": 0,
         "x": 0,
         "y": -0.15
        },
        "margin": {
         "b": 0,
         "l": 20,
         "r": 20,
         "t": 20
        },
        "template": {
         "data": {
          "bar": [
           {
            "error_x": {
             "color": "#2a3f5f"
            },
            "error_y": {
             "color": "#2a3f5f"
            },
            "marker": {
             "line": {
              "color": "white",
              "width": 0.5
             },
             "pattern": {
              "fillmode": "overlay",
              "size": 10,
              "solidity": 0.2
             }
            },
            "type": "bar"
           }
          ],
          "barpolar": [
           {
            "marker": {
             "line": {
              "color": "white",
              "width": 0.5
             },
             "pattern": {
              "fillmode": "overlay",
              "size": 10,
              "solidity": 0.2
             }
            },
            "type": "barpolar"
           }
          ],
          "carpet": [
           {
            "aaxis": {
             "endlinecolor": "#2a3f5f",
             "gridcolor": "#C8D4E3",
             "linecolor": "#C8D4E3",
             "minorgridcolor": "#C8D4E3",
             "startlinecolor": "#2a3f5f"
            },
            "baxis": {
             "endlinecolor": "#2a3f5f",
             "gridcolor": "#C8D4E3",
             "linecolor": "#C8D4E3",
             "minorgridcolor": "#C8D4E3",
             "startlinecolor": "#2a3f5f"
            },
            "type": "carpet"
           }
          ],
          "choropleth": [
           {
            "colorbar": {
             "outlinewidth": 0,
             "ticks": ""
            },
            "type": "choropleth"
           }
          ],
          "contour": [
           {
            "colorbar": {
             "outlinewidth": 0,
             "ticks": ""
            },
            "colorscale": [
             [
              0,
              "#0d0887"
             ],
             [
              0.1111111111111111,
              "#46039f"
             ],
             [
              0.2222222222222222,
              "#7201a8"
             ],
             [
              0.3333333333333333,
              "#9c179e"
             ],
             [
              0.4444444444444444,
              "#bd3786"
             ],
             [
              0.5555555555555556,
              "#d8576b"
             ],
             [
              0.6666666666666666,
              "#ed7953"
             ],
             [
              0.7777777777777778,
              "#fb9f3a"
             ],
             [
              0.8888888888888888,
              "#fdca26"
             ],
             [
              1,
              "#f0f921"
             ]
            ],
            "type": "contour"
           }
          ],
          "contourcarpet": [
           {
            "colorbar": {
             "outlinewidth": 0,
             "ticks": ""
            },
            "type": "contourcarpet"
           }
          ],
          "heatmap": [
           {
            "colorbar": {
             "outlinewidth": 0,
             "ticks": ""
            },
            "colorscale": [
             [
              0,
              "#0d0887"
             ],
             [
              0.1111111111111111,
              "#46039f"
             ],
             [
              0.2222222222222222,
              "#7201a8"
             ],
             [
              0.3333333333333333,
              "#9c179e"
             ],
             [
              0.4444444444444444,
              "#bd3786"
             ],
             [
              0.5555555555555556,
              "#d8576b"
             ],
             [
              0.6666666666666666,
              "#ed7953"
             ],
             [
              0.7777777777777778,
              "#fb9f3a"
             ],
             [
              0.8888888888888888,
              "#fdca26"
             ],
             [
              1,
              "#f0f921"
             ]
            ],
            "type": "heatmap"
           }
          ],
          "heatmapgl": [
           {
            "colorbar": {
             "outlinewidth": 0,
             "ticks": ""
            },
            "colorscale": [
             [
              0,
              "#0d0887"
             ],
             [
              0.1111111111111111,
              "#46039f"
             ],
             [
              0.2222222222222222,
              "#7201a8"
             ],
             [
              0.3333333333333333,
              "#9c179e"
             ],
             [
              0.4444444444444444,
              "#bd3786"
             ],
             [
              0.5555555555555556,
              "#d8576b"
             ],
             [
              0.6666666666666666,
              "#ed7953"
             ],
             [
              0.7777777777777778,
              "#fb9f3a"
             ],
             [
              0.8888888888888888,
              "#fdca26"
             ],
             [
              1,
              "#f0f921"
             ]
            ],
            "type": "heatmapgl"
           }
          ],
          "histogram": [
           {
            "marker": {
             "pattern": {
              "fillmode": "overlay",
              "size": 10,
              "solidity": 0.2
             }
            },
            "type": "histogram"
           }
          ],
          "histogram2d": [
           {
            "colorbar": {
             "outlinewidth": 0,
             "ticks": ""
            },
            "colorscale": [
             [
              0,
              "#0d0887"
             ],
             [
              0.1111111111111111,
              "#46039f"
             ],
             [
              0.2222222222222222,
              "#7201a8"
             ],
             [
              0.3333333333333333,
              "#9c179e"
             ],
             [
              0.4444444444444444,
              "#bd3786"
             ],
             [
              0.5555555555555556,
              "#d8576b"
             ],
             [
              0.6666666666666666,
              "#ed7953"
             ],
             [
              0.7777777777777778,
              "#fb9f3a"
             ],
             [
              0.8888888888888888,
              "#fdca26"
             ],
             [
              1,
              "#f0f921"
             ]
            ],
            "type": "histogram2d"
           }
          ],
          "histogram2dcontour": [
           {
            "colorbar": {
             "outlinewidth": 0,
             "ticks": ""
            },
            "colorscale": [
             [
              0,
              "#0d0887"
             ],
             [
              0.1111111111111111,
              "#46039f"
             ],
             [
              0.2222222222222222,
              "#7201a8"
             ],
             [
              0.3333333333333333,
              "#9c179e"
             ],
             [
              0.4444444444444444,
              "#bd3786"
             ],
             [
              0.5555555555555556,
              "#d8576b"
             ],
             [
              0.6666666666666666,
              "#ed7953"
             ],
             [
              0.7777777777777778,
              "#fb9f3a"
             ],
             [
              0.8888888888888888,
              "#fdca26"
             ],
             [
              1,
              "#f0f921"
             ]
            ],
            "type": "histogram2dcontour"
           }
          ],
          "mesh3d": [
           {
            "colorbar": {
             "outlinewidth": 0,
             "ticks": ""
            },
            "type": "mesh3d"
           }
          ],
          "parcoords": [
           {
            "line": {
             "colorbar": {
              "outlinewidth": 0,
              "ticks": ""
             }
            },
            "type": "parcoords"
           }
          ],
          "pie": [
           {
            "automargin": true,
            "type": "pie"
           }
          ],
          "scatter": [
           {
            "fillpattern": {
             "fillmode": "overlay",
             "size": 10,
             "solidity": 0.2
            },
            "type": "scatter"
           }
          ],
          "scatter3d": [
           {
            "line": {
             "colorbar": {
              "outlinewidth": 0,
              "ticks": ""
             }
            },
            "marker": {
             "colorbar": {
              "outlinewidth": 0,
              "ticks": ""
             }
            },
            "type": "scatter3d"
           }
          ],
          "scattercarpet": [
           {
            "marker": {
             "colorbar": {
              "outlinewidth": 0,
              "ticks": ""
             }
            },
            "type": "scattercarpet"
           }
          ],
          "scattergeo": [
           {
            "marker": {
             "colorbar": {
              "outlinewidth": 0,
              "ticks": ""
             }
            },
            "type": "scattergeo"
           }
          ],
          "scattergl": [
           {
            "marker": {
             "colorbar": {
              "outlinewidth": 0,
              "ticks": ""
             }
            },
            "type": "scattergl"
           }
          ],
          "scattermapbox": [
           {
            "marker": {
             "colorbar": {
              "outlinewidth": 0,
              "ticks": ""
             }
            },
            "type": "scattermapbox"
           }
          ],
          "scatterpolar": [
           {
            "marker": {
             "colorbar": {
              "outlinewidth": 0,
              "ticks": ""
             }
            },
            "type": "scatterpolar"
           }
          ],
          "scatterpolargl": [
           {
            "marker": {
             "colorbar": {
              "outlinewidth": 0,
              "ticks": ""
             }
            },
            "type": "scatterpolargl"
           }
          ],
          "scatterternary": [
           {
            "marker": {
             "colorbar": {
              "outlinewidth": 0,
              "ticks": ""
             }
            },
            "type": "scatterternary"
           }
          ],
          "surface": [
           {
            "colorbar": {
             "outlinewidth": 0,
             "ticks": ""
            },
            "colorscale": [
             [
              0,
              "#0d0887"
             ],
             [
              0.1111111111111111,
              "#46039f"
             ],
             [
              0.2222222222222222,
              "#7201a8"
             ],
             [
              0.3333333333333333,
              "#9c179e"
             ],
             [
              0.4444444444444444,
              "#bd3786"
             ],
             [
              0.5555555555555556,
              "#d8576b"
             ],
             [
              0.6666666666666666,
              "#ed7953"
             ],
             [
              0.7777777777777778,
              "#fb9f3a"
             ],
             [
              0.8888888888888888,
              "#fdca26"
             ],
             [
              1,
              "#f0f921"
             ]
            ],
            "type": "surface"
           }
          ],
          "table": [
           {
            "cells": {
             "fill": {
              "color": "#EBF0F8"
             },
             "line": {
              "color": "white"
             }
            },
            "header": {
             "fill": {
              "color": "#C8D4E3"
             },
             "line": {
              "color": "white"
             }
            },
            "type": "table"
           }
          ]
         },
         "layout": {
          "annotationdefaults": {
           "arrowcolor": "#2a3f5f",
           "arrowhead": 0,
           "arrowwidth": 1
          },
          "autotypenumbers": "strict",
          "coloraxis": {
           "colorbar": {
            "outlinewidth": 0,
            "ticks": ""
           }
          },
          "colorscale": {
           "diverging": [
            [
             0,
             "#8e0152"
            ],
            [
             0.1,
             "#c51b7d"
            ],
            [
             0.2,
             "#de77ae"
            ],
            [
             0.3,
             "#f1b6da"
            ],
            [
             0.4,
             "#fde0ef"
            ],
            [
             0.5,
             "#f7f7f7"
            ],
            [
             0.6,
             "#e6f5d0"
            ],
            [
             0.7,
             "#b8e186"
            ],
            [
             0.8,
             "#7fbc41"
            ],
            [
             0.9,
             "#4d9221"
            ],
            [
             1,
             "#276419"
            ]
           ],
           "sequential": [
            [
             0,
             "#0d0887"
            ],
            [
             0.1111111111111111,
             "#46039f"
            ],
            [
             0.2222222222222222,
             "#7201a8"
            ],
            [
             0.3333333333333333,
             "#9c179e"
            ],
            [
             0.4444444444444444,
             "#bd3786"
            ],
            [
             0.5555555555555556,
             "#d8576b"
            ],
            [
             0.6666666666666666,
             "#ed7953"
            ],
            [
             0.7777777777777778,
             "#fb9f3a"
            ],
            [
             0.8888888888888888,
             "#fdca26"
            ],
            [
             1,
             "#f0f921"
            ]
           ],
           "sequentialminus": [
            [
             0,
             "#0d0887"
            ],
            [
             0.1111111111111111,
             "#46039f"
            ],
            [
             0.2222222222222222,
             "#7201a8"
            ],
            [
             0.3333333333333333,
             "#9c179e"
            ],
            [
             0.4444444444444444,
             "#bd3786"
            ],
            [
             0.5555555555555556,
             "#d8576b"
            ],
            [
             0.6666666666666666,
             "#ed7953"
            ],
            [
             0.7777777777777778,
             "#fb9f3a"
            ],
            [
             0.8888888888888888,
             "#fdca26"
            ],
            [
             1,
             "#f0f921"
            ]
           ]
          },
          "colorway": [
           "#636efa",
           "#EF553B",
           "#00cc96",
           "#ab63fa",
           "#FFA15A",
           "#19d3f3",
           "#FF6692",
           "#B6E880",
           "#FF97FF",
           "#FECB52"
          ],
          "font": {
           "color": "#2a3f5f"
          },
          "geo": {
           "bgcolor": "white",
           "lakecolor": "white",
           "landcolor": "white",
           "showlakes": true,
           "showland": true,
           "subunitcolor": "#C8D4E3"
          },
          "hoverlabel": {
           "align": "left"
          },
          "hovermode": "closest",
          "mapbox": {
           "style": "light"
          },
          "paper_bgcolor": "white",
          "plot_bgcolor": "white",
          "polar": {
           "angularaxis": {
            "gridcolor": "#EBF0F8",
            "linecolor": "#EBF0F8",
            "ticks": ""
           },
           "bgcolor": "white",
           "radialaxis": {
            "gridcolor": "#EBF0F8",
            "linecolor": "#EBF0F8",
            "ticks": ""
           }
          },
          "scene": {
           "xaxis": {
            "backgroundcolor": "white",
            "gridcolor": "#DFE8F3",
            "gridwidth": 2,
            "linecolor": "#EBF0F8",
            "showbackground": true,
            "ticks": "",
            "zerolinecolor": "#EBF0F8"
           },
           "yaxis": {
            "backgroundcolor": "white",
            "gridcolor": "#DFE8F3",
            "gridwidth": 2,
            "linecolor": "#EBF0F8",
            "showbackground": true,
            "ticks": "",
            "zerolinecolor": "#EBF0F8"
           },
           "zaxis": {
            "backgroundcolor": "white",
            "gridcolor": "#DFE8F3",
            "gridwidth": 2,
            "linecolor": "#EBF0F8",
            "showbackground": true,
            "ticks": "",
            "zerolinecolor": "#EBF0F8"
           }
          },
          "shapedefaults": {
           "line": {
            "color": "#2a3f5f"
           }
          },
          "ternary": {
           "aaxis": {
            "gridcolor": "#DFE8F3",
            "linecolor": "#A2B1C6",
            "ticks": ""
           },
           "baxis": {
            "gridcolor": "#DFE8F3",
            "linecolor": "#A2B1C6",
            "ticks": ""
           },
           "bgcolor": "white",
           "caxis": {
            "gridcolor": "#DFE8F3",
            "linecolor": "#A2B1C6",
            "ticks": ""
           }
          },
          "title": {
           "x": 0.05
          },
          "xaxis": {
           "automargin": true,
           "gridcolor": "#EBF0F8",
           "linecolor": "#EBF0F8",
           "ticks": "",
           "title": {
            "standoff": 15
           },
           "zerolinecolor": "#EBF0F8",
           "zerolinewidth": 2
          },
          "yaxis": {
           "automargin": true,
           "gridcolor": "#EBF0F8",
           "linecolor": "#EBF0F8",
           "ticks": "",
           "title": {
            "standoff": 15
           },
           "zerolinecolor": "#EBF0F8",
           "zerolinewidth": 2
          }
         }
        },
        "width": 400,
        "xaxis": {
         "anchor": "y",
         "domain": [
          0,
          1
         ],
         "nticks": 12,
         "range": [
          "2011-01-01T00:00:00",
          "2023-08-03"
         ],
         "title": {
          "text": "Publication date"
         }
        },
        "yaxis": {
         "anchor": "x",
         "domain": [
          0,
          1
         ],
         "title": {
          "text": "Largest published training run to date (FLOP)"
         },
         "type": "log"
        }
       }
      }
     },
     "metadata": {},
     "output_type": "display_data"
    }
   ],
   "source": [
    "# Create a line plot\n",
    "fig = px.line(\n",
    "    company_max_compute_df[company_max_compute_df[\"Organization\"].isin([\"Google\", \"DeepMind\", \"OpenAI\", \"Meta\", \"Microsoft\"])],\n",
    "    x=\"Publication date\", \n",
    "    y=\"Training compute (FLOP)\", \n",
    "    line_shape=\"hv\",\n",
    "    color=\"Organization\",\n",
    "    labels={\"Training compute (FLOP)\": \"Largest published training run to date (FLOP)\"},\n",
    "    category_orders={\"Organization\": [\"OpenAI\", \"Google\", \"Microsoft\", \"DeepMind\", \"Meta\"]},\n",
    "    hover_data=[\"System\"],\n",
    ")\n",
    "fig.add_trace(\n",
    "    go.Scatter(\n",
    "        x=global_max_df[\"Publication date\"],\n",
    "        y=global_max_df[\"Training compute (FLOP)\"],\n",
    "        text=global_max_df[\"System\"],\n",
    "        textposition=\"top left\",\n",
    "        line={\"color\": \"black\"},\n",
    "        mode=\"markers+text\",\n",
    "        name=\"Changes in leader\",\n",
    "    )\n",
    ")\n",
    "fig.add_trace(\n",
    "    go.Scatter(\n",
    "        x=pd.to_datetime([\"2020-05-28\"]),\n",
    "        y=[3.14e23],\n",
    "        text=[\"GPT-3 (175B)\"],\n",
    "        textposition=\"top left\",\n",
    "        line={\"color\": \"black\"},\n",
    "        mode=\"markers+text\",\n",
    "        marker_symbol=\"x\",\n",
    "        name=\"Other notable systems\",\n",
    "    )\n",
    ")\n",
    "# fig.add_trace(\n",
    "#     go.Scatter(\n",
    "#         x=pd.to_datetime([\"2020-05-28\", \"2023-02-24\"]),\n",
    "#         y=[3.14e23, 5.50e23],\n",
    "#         text=[\"GPT-3 (175B)\", \"LLaMA (65B)\"],\n",
    "#         textposition=[\"top left\", \"middle left\"],\n",
    "#         line={\"color\": \"black\"},\n",
    "#         mode=\"markers+text\",\n",
    "#         marker_symbol=\"x\",\n",
    "#         name=\"Other notable systems\",\n",
    "#     )\n",
    "# )\n",
    "\n",
    "# Convert year to datetime\n",
    "fig.update_yaxes(type=\"log\")\n",
    "# Show all years on x axis\n",
    "fig.update_xaxes(nticks=12)\n",
    "# Make sure the labels are fully shown\n",
    "fig.update_xaxes(range=[pd.to_datetime(2011, format=\"%Y\"), datetime.now().date()])\n",
    "fig.update_layout(\n",
    "    legend=dict(\n",
    "        title=\"\",\n",
    "        orientation=\"h\",\n",
    "        # yanchor=\"top\",\n",
    "        y=-0.15,\n",
    "        # xanchor=\"center\",\n",
    "        x=0,\n",
    "    ),\n",
    ")\n",
    "# Edit figure layout\n",
    "fig.update_layout(\n",
    "    autosize=False,\n",
    "    width=400,\n",
    "    height=415,\n",
    "    font=dict(size=10),\n",
    "    margin=dict(l=20, r=20, t=20, b=0),\n",
    ")\n",
    "\n",
    "save_plot(fig, result_file_location, 'companies_largest_compute_all')\n",
    "\n",
    "fig.show()"
   ]
  },
  {
   "cell_type": "code",
   "execution_count": null,
   "metadata": {},
   "outputs": [],
   "source": []
  }
 ],
 "metadata": {
  "kernelspec": {
   "display_name": "epoch",
   "language": "python",
   "name": "python3"
  },
  "language_info": {
   "codemirror_mode": {
    "name": "ipython",
    "version": 3
   },
   "file_extension": ".py",
   "mimetype": "text/x-python",
   "name": "python",
   "nbconvert_exporter": "python",
   "pygments_lexer": "ipython3",
   "version": "3.11.3"
  },
  "orig_nbformat": 4
 },
 "nbformat": 4,
 "nbformat_minor": 2
}
